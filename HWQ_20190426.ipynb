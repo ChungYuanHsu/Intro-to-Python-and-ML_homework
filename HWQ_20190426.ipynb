{
  "nbformat": 4,
  "nbformat_minor": 0,
  "metadata": {
    "colab": {
      "name": "HWQ_20190426.ipynb",
      "version": "0.3.2",
      "provenance": [],
      "include_colab_link": true
    },
    "kernelspec": {
      "name": "python3",
      "display_name": "Python 3"
    },
    "accelerator": "GPU"
  },
  "cells": [
    {
      "cell_type": "markdown",
      "metadata": {
        "id": "view-in-github",
        "colab_type": "text"
      },
      "source": [
        "<a href=\"https://colab.research.google.com/github/ChungYuanHsu/Python-and-ML_homework/blob/master/HWQ_20190426.ipynb\" target=\"_parent\"><img src=\"https://colab.research.google.com/assets/colab-badge.svg\" alt=\"Open In Colab\"/></a>"
      ]
    },
    {
      "metadata": {
        "id": "JePl6KTy9a6j",
        "colab_type": "text"
      },
      "cell_type": "markdown",
      "source": [
        "# **HWQ <font color=FC8600> 調整參數使神經網路準確率>90% </font> **\n",
        "\n"
      ]
    },
    {
      "metadata": {
        "id": "KRil4aiEvy7b",
        "colab_type": "code",
        "outputId": "5a20c0b0-e214-4f39-c224-2b1662f3077f",
        "colab": {
          "base_uri": "https://localhost:8080/",
          "height": 34
        }
      },
      "cell_type": "code",
      "source": [
        "%env KERAS_BACKEND=tensorflow\n",
        "%matplotlib inline\n",
        "\n",
        "import numpy as np\n",
        "import matplotlib.pyplot as plt"
      ],
      "execution_count": 5,
      "outputs": [
        {
          "output_type": "stream",
          "text": [
            "env: KERAS_BACKEND=tensorflow\n"
          ],
          "name": "stdout"
        }
      ]
    },
    {
      "metadata": {
        "id": "WsKu20jy-Hxs",
        "colab_type": "text"
      },
      "cell_type": "markdown",
      "source": [
        "### <font color=1681F2> 載入MNIST數據 </font>"
      ]
    },
    {
      "metadata": {
        "id": "W1SxMSg7xsJC",
        "colab_type": "code",
        "colab": {}
      },
      "cell_type": "code",
      "source": [
        "from keras.datasets import mnist"
      ],
      "execution_count": 0,
      "outputs": []
    },
    {
      "metadata": {
        "id": "_wAMoj3TyIR_",
        "colab_type": "code",
        "colab": {}
      },
      "cell_type": "code",
      "source": [
        "(x_train, y_train), (x_test, y_test) = mnist.load_data()"
      ],
      "execution_count": 0,
      "outputs": []
    },
    {
      "metadata": {
        "id": "YbKBiXjmyNZb",
        "colab_type": "code",
        "colab": {
          "base_uri": "https://localhost:8080/",
          "height": 34
        },
        "outputId": "6d43c15c-ca7f-4987-8783-de208e489a5b"
      },
      "cell_type": "code",
      "source": [
        "len(x_train),len(x_test)"
      ],
      "execution_count": 8,
      "outputs": [
        {
          "output_type": "execute_result",
          "data": {
            "text/plain": [
              "(60000, 10000)"
            ]
          },
          "metadata": {
            "tags": []
          },
          "execution_count": 8
        }
      ]
    },
    {
      "metadata": {
        "id": "R4_XDxk2ySSX",
        "colab_type": "code",
        "colab": {}
      },
      "cell_type": "code",
      "source": [
        "x_train = x_train.reshape(60000, 784)\n",
        "x_test = x_test.reshape(10000, 784)"
      ],
      "execution_count": 0,
      "outputs": []
    },
    {
      "metadata": {
        "id": "0CzAAvlV-rAR",
        "colab_type": "text"
      },
      "cell_type": "markdown",
      "source": [
        "### <font color=1681F2> 將input data正規化 </font>"
      ]
    },
    {
      "metadata": {
        "id": "PNKF3fw50Qgi",
        "colab_type": "code",
        "colab": {}
      },
      "cell_type": "code",
      "source": [
        "x_train = (x_train - x_train.min())/(x_train.max() - x_train.min())\n",
        "x_test = (x_test - x_test.min())/(x_test.max() - x_test.min())"
      ],
      "execution_count": 0,
      "outputs": []
    },
    {
      "metadata": {
        "id": "2Ye-39RQ0RJc",
        "colab_type": "code",
        "colab": {
          "base_uri": "https://localhost:8080/",
          "height": 34
        },
        "outputId": "e5d46822-224a-4fec-f5c4-eaefca66b5e0"
      },
      "cell_type": "code",
      "source": [
        "x_train.max(),x_train.min()"
      ],
      "execution_count": 11,
      "outputs": [
        {
          "output_type": "execute_result",
          "data": {
            "text/plain": [
              "(1.0, 0.0)"
            ]
          },
          "metadata": {
            "tags": []
          },
          "execution_count": 11
        }
      ]
    },
    {
      "metadata": {
        "id": "f4jLbWYy-2fx",
        "colab_type": "text"
      },
      "cell_type": "markdown",
      "source": [
        "### <font color=1681F2> 將output data 轉成10個元素的矩陣 </font>"
      ]
    },
    {
      "metadata": {
        "id": "WEnjQYQw0Rm9",
        "colab_type": "code",
        "colab": {}
      },
      "cell_type": "code",
      "source": [
        "from keras.utils import np_utils"
      ],
      "execution_count": 0,
      "outputs": []
    },
    {
      "metadata": {
        "id": "YTxbKBJI0dDp",
        "colab_type": "code",
        "colab": {}
      },
      "cell_type": "code",
      "source": [
        "y_train = np_utils.to_categorical(y_train, 10)\n",
        "y_test = np_utils.to_categorical(y_test, 10)"
      ],
      "execution_count": 0,
      "outputs": []
    },
    {
      "metadata": {
        "id": "HFs3ivQP0diJ",
        "colab_type": "code",
        "colab": {
          "base_uri": "https://localhost:8080/",
          "height": 34
        },
        "outputId": "6fed42b1-424d-49b7-9ab5-9fa44c2881df"
      },
      "cell_type": "code",
      "source": [
        "y_train[1234] "
      ],
      "execution_count": 14,
      "outputs": [
        {
          "output_type": "execute_result",
          "data": {
            "text/plain": [
              "array([0., 0., 0., 1., 0., 0., 0., 0., 0., 0.], dtype=float32)"
            ]
          },
          "metadata": {
            "tags": []
          },
          "execution_count": 14
        }
      ]
    },
    {
      "metadata": {
        "id": "8I5a6QJM_GlW",
        "colab_type": "text"
      },
      "cell_type": "markdown",
      "source": [
        "### <font color=1681F2> 建立神經網路模型(3層hidden layers 分別有50,30,20個神經元,激發函數選擇 ReLU) </font>"
      ]
    },
    {
      "metadata": {
        "id": "fcwZrGsf0d9w",
        "colab_type": "code",
        "colab": {}
      },
      "cell_type": "code",
      "source": [
        "from keras.models import Sequential\n",
        "from keras.layers import Dense, Activation\n",
        "from keras.optimizers import SGD"
      ],
      "execution_count": 0,
      "outputs": []
    },
    {
      "metadata": {
        "id": "GlYqP3gh0j3x",
        "colab_type": "code",
        "colab": {}
      },
      "cell_type": "code",
      "source": [
        "model = Sequential()\n",
        "model.add(Dense(50,input_dim = 784))\n",
        "model.add(Activation('relu'))\n",
        "model.add(Dense(30))\n",
        "model.add(Activation('relu'))\n",
        "model.add(Dense(20))\n",
        "model.add(Activation('relu'))\n",
        "model.add(Dense(10))\n",
        "model.add(Activation('softmax'))\n"
      ],
      "execution_count": 0,
      "outputs": []
    },
    {
      "metadata": {
        "id": "iHBJwBw20kbp",
        "colab_type": "code",
        "colab": {}
      },
      "cell_type": "code",
      "source": [
        "model.compile(loss='mse', optimizer=SGD(lr=0.05), metrics=['accuracy'])"
      ],
      "execution_count": 0,
      "outputs": []
    },
    {
      "metadata": {
        "id": "GWYzJ-yw00y9",
        "colab_type": "code",
        "colab": {
          "base_uri": "https://localhost:8080/",
          "height": 408
        },
        "outputId": "1f11026f-2162-4cf5-f4f9-521f1b3db36b"
      },
      "cell_type": "code",
      "source": [
        "model.summary()"
      ],
      "execution_count": 51,
      "outputs": [
        {
          "output_type": "stream",
          "text": [
            "_________________________________________________________________\n",
            "Layer (type)                 Output Shape              Param #   \n",
            "=================================================================\n",
            "dense_22 (Dense)             (None, 50)                39250     \n",
            "_________________________________________________________________\n",
            "activation_21 (Activation)   (None, 50)                0         \n",
            "_________________________________________________________________\n",
            "dense_23 (Dense)             (None, 30)                1530      \n",
            "_________________________________________________________________\n",
            "activation_22 (Activation)   (None, 30)                0         \n",
            "_________________________________________________________________\n",
            "dense_24 (Dense)             (None, 20)                620       \n",
            "_________________________________________________________________\n",
            "activation_23 (Activation)   (None, 20)                0         \n",
            "_________________________________________________________________\n",
            "dense_25 (Dense)             (None, 10)                210       \n",
            "_________________________________________________________________\n",
            "activation_24 (Activation)   (None, 10)                0         \n",
            "=================================================================\n",
            "Total params: 41,610\n",
            "Trainable params: 41,610\n",
            "Non-trainable params: 0\n",
            "_________________________________________________________________\n"
          ],
          "name": "stdout"
        }
      ]
    },
    {
      "metadata": {
        "id": "Y0OE0d8R_LvE",
        "colab_type": "text"
      },
      "cell_type": "markdown",
      "source": [
        "### <font color=1681F2> 開始訓練模型 </font>"
      ]
    },
    {
      "metadata": {
        "id": "T0RYZYYK01OA",
        "colab_type": "code",
        "colab": {
          "base_uri": "https://localhost:8080/",
          "height": 357
        },
        "outputId": "1db3f5f2-0a3d-40bc-de1e-b8e4bb04a284"
      },
      "cell_type": "code",
      "source": [
        "model_1 = model.fit(x_train,y_train,batch_size = 20,epochs = 10)"
      ],
      "execution_count": 54,
      "outputs": [
        {
          "output_type": "stream",
          "text": [
            "Epoch 1/10\n",
            "60000/60000 [==============================] - 8s 128us/step - loss: 0.0088 - acc: 0.9435\n",
            "Epoch 2/10\n",
            "60000/60000 [==============================] - 9s 142us/step - loss: 0.0085 - acc: 0.9457\n",
            "Epoch 3/10\n",
            "60000/60000 [==============================] - 8s 133us/step - loss: 0.0081 - acc: 0.9483\n",
            "Epoch 4/10\n",
            "60000/60000 [==============================] - 8s 128us/step - loss: 0.0078 - acc: 0.9507\n",
            "Epoch 5/10\n",
            "60000/60000 [==============================] - 8s 129us/step - loss: 0.0075 - acc: 0.9527\n",
            "Epoch 6/10\n",
            "60000/60000 [==============================] - 8s 128us/step - loss: 0.0072 - acc: 0.9547\n",
            "Epoch 7/10\n",
            "60000/60000 [==============================] - 8s 127us/step - loss: 0.0070 - acc: 0.9568\n",
            "Epoch 8/10\n",
            "60000/60000 [==============================] - 8s 128us/step - loss: 0.0067 - acc: 0.9578\n",
            "Epoch 9/10\n",
            "60000/60000 [==============================] - 8s 127us/step - loss: 0.0065 - acc: 0.9597\n",
            "Epoch 10/10\n",
            "60000/60000 [==============================] - 8s 127us/step - loss: 0.0063 - acc: 0.9608\n"
          ],
          "name": "stdout"
        }
      ]
    },
    {
      "metadata": {
        "id": "5h75xX8C1IaS",
        "colab_type": "code",
        "colab": {
          "base_uri": "https://localhost:8080/",
          "height": 34
        },
        "outputId": "bad57968-ea3c-441c-b4c8-85615e552bc3"
      },
      "cell_type": "code",
      "source": [
        "predict = model.predict_classes(x_test)\n",
        "predict"
      ],
      "execution_count": 55,
      "outputs": [
        {
          "output_type": "execute_result",
          "data": {
            "text/plain": [
              "array([7, 2, 1, ..., 4, 5, 6])"
            ]
          },
          "metadata": {
            "tags": []
          },
          "execution_count": 55
        }
      ]
    },
    {
      "metadata": {
        "id": "YWn8kAn_825k",
        "colab_type": "code",
        "colab": {}
      },
      "cell_type": "code",
      "source": [
        "def test(測試編號):\n",
        "    plt.imshow(x_test[測試編號].reshape(28,28), cmap='Greys')\n",
        "    print('神經網路判斷為:', predict[測試編號])"
      ],
      "execution_count": 0,
      "outputs": []
    },
    {
      "metadata": {
        "id": "x7ur-7DZ9Acv",
        "colab_type": "code",
        "colab": {
          "base_uri": "https://localhost:8080/",
          "height": 286
        },
        "outputId": "cfa12331-64a4-4bec-cb67-819cc72aacec"
      },
      "cell_type": "code",
      "source": [
        "test(987)"
      ],
      "execution_count": 59,
      "outputs": [
        {
          "output_type": "stream",
          "text": [
            "神經網路判斷為: 7\n"
          ],
          "name": "stdout"
        },
        {
          "output_type": "display_data",
          "data": {
            "image/png": "[encoded data removed]",
            "text/plain": [
              "<Figure size 432x288 with 1 Axes>"
            ]
          },
          "metadata": {
            "tags": []
          }
        }
      ]
    },
    {
      "metadata": {
        "id": "4wg38BGf_ZtO",
        "colab_type": "text"
      },
      "cell_type": "markdown",
      "source": [
        "### <font color=1681F2> 準確率可達95.37% </font>"
      ]
    },
    {
      "metadata": {
        "id": "sZ4yIiAZ9DOQ",
        "colab_type": "code",
        "colab": {
          "base_uri": "https://localhost:8080/",
          "height": 68
        },
        "outputId": "1c98d158-7b0e-4640-9fc9-ac58269aacd0"
      },
      "cell_type": "code",
      "source": [
        "score = model.evaluate(x_test, y_test)\n",
        "print('loss:', score[0])\n",
        "print('正確率', score[1])"
      ],
      "execution_count": 60,
      "outputs": [
        {
          "output_type": "stream",
          "text": [
            "10000/10000 [==============================] - 0s 39us/step\n",
            "loss: 0.006965179997414816\n",
            "正確率 0.9537\n"
          ],
          "name": "stdout"
        }
      ]
    }
  ]
}