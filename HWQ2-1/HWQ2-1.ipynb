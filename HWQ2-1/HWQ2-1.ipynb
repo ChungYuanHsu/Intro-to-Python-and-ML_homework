{
 "cells": [
  {
   "cell_type": "markdown",
   "metadata": {},
   "source": [
    "## HWQ2-1 運用Ipython的interact功能\n",
    "##### 利用5張影像簡易呈\n",
    "現出人類演化過程"
   ]
  },
  {
   "cell_type": "code",
   "execution_count": null,
   "metadata": {},
   "outputs": [],
   "source": [
    "% matplotlib inline\n",
    "import numpy as np\n",
    "import matplotlib.pyplot as plt\n",
    "from PIL import Image\n",
    "from ipywidgets import interact\n",
    "\n",
    "imgs=[]\n",
    "for i in range(5):\n",
    "    imgs.append(Image.open(str(i+1)+'.jpg'))\n",
    "        \n",
    "def displayEvolutionImg(x=1):\n",
    "        plt.imshow(imgs[x-1])\n",
    "        plt.axis('off')\n",
    "        print('Evolution of human beings')\n",
    "    \n",
    "interact(displayEvolutionImg,x=(1,5));\n",
    "# images source:https://goo.gl/zVG9Gm"
   ]
  },
  {
   "cell_type": "code",
   "execution_count": null,
   "metadata": {},
   "outputs": [],
   "source": []
  }
 ],
 "metadata": {
  "kernelspec": {
   "display_name": "Python 3",
   "language": "python",
   "name": "python3"
  },
  "language_info": {
   "codemirror_mode": {
    "name": "ipython",
    "version": 3
   },
   "file_extension": ".py",
   "mimetype": "text/x-python",
   "name": "python",
   "nbconvert_exporter": "python",
   "pygments_lexer": "ipython3",
   "version": "3.6.3"
  }
 },
 "nbformat": 4,
 "nbformat_minor": 2
}
