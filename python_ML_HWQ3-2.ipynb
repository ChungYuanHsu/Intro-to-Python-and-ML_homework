{
 "cells": [
  {
   "cell_type": "code",
   "execution_count": 14,
   "metadata": {},
   "outputs": [
    {
     "name": "stdout",
     "output_type": "stream",
     "text": [
      "3.7 µs ± 454 ns per loop (mean ± std. dev. of 7 runs, 100000 loops each)\n",
      "5.98 µs ± 768 ns per loop (mean ± std. dev. of 7 runs, 100000 loops each)\n",
      "3.01 µs ± 284 ns per loop (mean ± std. dev. of 7 runs, 100000 loops each)\n"
     ]
    }
   ],
   "source": [
    "import numpy as np\n",
    "import timeit\n",
    "import random\n",
    "def selection_sort(x):\n",
    "  for i in range(len(x)):\n",
    "    swap = i + np.argmin(x[i:])\n",
    "    (x[i],x[swap])=(x[swap],x[i])\n",
    "  return x\n",
    "\n",
    "def bogosort(x):\n",
    "  while np.any(x[:-1]>x[1:]):\n",
    "    np.random.shuffle(x)\n",
    "  return x\n",
    "\n",
    "x = np.array([random.randint(0, 100) for _ in range(10)])\n",
    "%timeit selection_sort(x)\n",
    "%timeit bogosort(x)\n",
    "%timeit np.sort(x)\n"
   ]
  },
  {
   "cell_type": "code",
   "execution_count": null,
   "metadata": {},
   "outputs": [],
   "source": []
  }
 ],
 "metadata": {
  "kernelspec": {
   "display_name": "Python 3",
   "language": "python",
   "name": "python3"
  },
  "language_info": {
   "codemirror_mode": {
    "name": "ipython",
    "version": 3
   },
   "file_extension": ".py",
   "mimetype": "text/x-python",
   "name": "python",
   "nbconvert_exporter": "python",
   "pygments_lexer": "ipython3",
   "version": "3.6.4"
  }
 },
 "nbformat": 4,
 "nbformat_minor": 2
}
