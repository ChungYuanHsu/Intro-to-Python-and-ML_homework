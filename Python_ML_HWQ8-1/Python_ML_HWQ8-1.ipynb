{
 "cells": [
  {
   "cell_type": "markdown",
   "metadata": {},
   "source": [
    "# <font color=1978DD> HWQ8-1 使用Functional API建立神經網路 </font> \n",
    "  ###  <font color=FC8600 >  $\\;\\;$ 1. 載入需要用到的套件  </font>"
   ]
  },
  {
   "cell_type": "code",
   "execution_count": 14,
   "metadata": {},
   "outputs": [
    {
     "name": "stdout",
     "output_type": "stream",
     "text": [
      "env: KERAS_BACKEND=tensorflow\n"
     ]
    }
   ],
   "source": [
    "%env KERAS_BACKEND=tensorflow\n",
    "%matplotlib inline\n",
    "\n",
    "import numpy as np\n",
    "import matplotlib.pyplot as plt\n",
    "from keras.datasets import mnist\n",
    "from keras.models import Sequential, Model\n",
    "from keras.layers import Dense, Activation, Input, concatenate, add\n",
    "from keras.optimizers import SGD, Adam\n",
    "from keras.utils import np_utils"
   ]
  },
  {
   "cell_type": "markdown",
   "metadata": {},
   "source": [
    "###  <font color=FC8600 >  $\\;\\;$ 2. 載入手寫數字的資料  </font>"
   ]
  },
  {
   "cell_type": "code",
   "execution_count": 15,
   "metadata": {},
   "outputs": [],
   "source": [
    "(x_train, y_train), (x_test, y_test) = mnist.load_data()"
   ]
  },
  {
   "cell_type": "markdown",
   "metadata": {},
   "source": [
    "###  <font color=FC8600 >  $\\;\\;$ 3. 將每張圖片原本的資料28x28轉成784  </font>"
   ]
  },
  {
   "cell_type": "code",
   "execution_count": 16,
   "metadata": {},
   "outputs": [],
   "source": [
    "x_train = x_train.reshape(60000, 784)\n",
    "x_test = x_test.reshape(10000, 784)"
   ]
  },
  {
   "cell_type": "markdown",
   "metadata": {},
   "source": [
    "###  <font color=FC8600 >  $\\;\\;$ 4. 輸出分類數目為0-9共10種  </font>"
   ]
  },
  {
   "cell_type": "code",
   "execution_count": 17,
   "metadata": {},
   "outputs": [],
   "source": [
    "y_train = np_utils.to_categorical(y_train, 10)\n",
    "y_test = np_utils.to_categorical(y_test, 10)"
   ]
  },
  {
   "cell_type": "markdown",
   "metadata": {},
   "source": [
    "###  <font color=FC8600 >  $\\;\\;$ 5. 正規化資料  </font>"
   ]
  },
  {
   "cell_type": "code",
   "execution_count": 18,
   "metadata": {},
   "outputs": [],
   "source": [
    "x_train_1 = (x_train - x_train.min()) / (x_train.max() - x_train.min())\n",
    "x_test_1 = (x_test - x_test.min()) / (x_test.max()- x_test.min())"
   ]
  },
  {
   "cell_type": "markdown",
   "metadata": {},
   "source": [
    "###  <font color=FC8600 >  $\\;\\;$ 6.建立神經網路 </font>"
   ]
  },
  {
   "cell_type": "markdown",
   "metadata": {},
   "source": [
    "<img src=\"structure.png\" width=\"750\" >"
   ]
  },
  {
   "cell_type": "code",
   "execution_count": 19,
   "metadata": {},
   "outputs": [],
   "source": [
    "f_1 = Dense(50, activation='sigmoid')\n",
    "f_2 = Dense(50, activation='sigmoid')\n",
    "f_3 = Dense(25, activation='relu')\n",
    "f_4 = Dense(25, activation='relu')\n",
    "f_5 = Dense(25, activation='relu')\n",
    "f_6 = Dense(25, activation='relu')\n",
    "f_7 = Dense(20, activation='sigmoid')\n",
    "f_8 = Dense(10, activation='softmax')"
   ]
  },
  {
   "cell_type": "code",
   "execution_count": 20,
   "metadata": {},
   "outputs": [],
   "source": [
    "x = Input(shape=(784,))"
   ]
  },
  {
   "cell_type": "code",
   "execution_count": 21,
   "metadata": {},
   "outputs": [],
   "source": [
    "h_1 = f_1(x)\n",
    "h_2 = f_2(x)\n",
    "h_3 = f_3(h_1)\n",
    "h_4 = f_4(h_1)\n",
    "h_5 = f_5(h_2)\n",
    "h_6 = f_6(h_2)\n",
    "u_100 = concatenate([h_3, h_4, h_5,h_6])\n",
    "h_7 = f_7(u_100)\n",
    "y = f_8(h_7)"
   ]
  },
  {
   "cell_type": "code",
   "execution_count": 22,
   "metadata": {},
   "outputs": [
    {
     "data": {
      "text/plain": [
       "<tf.Tensor 'concatenate_2/concat:0' shape=(?, 100) dtype=float32>"
      ]
     },
     "execution_count": 22,
     "metadata": {},
     "output_type": "execute_result"
    }
   ],
   "source": [
    "u_100"
   ]
  },
  {
   "cell_type": "markdown",
   "metadata": {},
   "source": [
    "###  <font color=FC8600 >  $\\;\\;$ 7.確認model參數正確</font>"
   ]
  },
  {
   "cell_type": "code",
   "execution_count": 23,
   "metadata": {},
   "outputs": [
    {
     "name": "stdout",
     "output_type": "stream",
     "text": [
      "__________________________________________________________________________________________________\n",
      "Layer (type)                    Output Shape         Param #     Connected to                     \n",
      "==================================================================================================\n",
      "input_2 (InputLayer)            (None, 784)          0                                            \n",
      "__________________________________________________________________________________________________\n",
      "dense_9 (Dense)                 (None, 50)           39250       input_2[0][0]                    \n",
      "__________________________________________________________________________________________________\n",
      "dense_10 (Dense)                (None, 50)           39250       input_2[0][0]                    \n",
      "__________________________________________________________________________________________________\n",
      "dense_11 (Dense)                (None, 25)           1275        dense_9[0][0]                    \n",
      "__________________________________________________________________________________________________\n",
      "dense_12 (Dense)                (None, 25)           1275        dense_9[0][0]                    \n",
      "__________________________________________________________________________________________________\n",
      "dense_13 (Dense)                (None, 25)           1275        dense_10[0][0]                   \n",
      "__________________________________________________________________________________________________\n",
      "dense_14 (Dense)                (None, 25)           1275        dense_10[0][0]                   \n",
      "__________________________________________________________________________________________________\n",
      "concatenate_2 (Concatenate)     (None, 100)          0           dense_11[0][0]                   \n",
      "                                                                 dense_12[0][0]                   \n",
      "                                                                 dense_13[0][0]                   \n",
      "                                                                 dense_14[0][0]                   \n",
      "__________________________________________________________________________________________________\n",
      "dense_15 (Dense)                (None, 20)           2020        concatenate_2[0][0]              \n",
      "__________________________________________________________________________________________________\n",
      "dense_16 (Dense)                (None, 10)           210         dense_15[0][0]                   \n",
      "==================================================================================================\n",
      "Total params: 85,830\n",
      "Trainable params: 85,830\n",
      "Non-trainable params: 0\n",
      "__________________________________________________________________________________________________\n"
     ]
    }
   ],
   "source": [
    "model = Model(x, y)\n",
    "model.summary()"
   ]
  },
  {
   "cell_type": "markdown",
   "metadata": {},
   "source": [
    "###  <font color=FC8600 >  $\\;\\;$ 8. compile model</font>"
   ]
  },
  {
   "cell_type": "code",
   "execution_count": 24,
   "metadata": {},
   "outputs": [],
   "source": [
    "model.compile(loss='binary_crossentropy', optimizer=Adam(lr=0.01), metrics=['accuracy'])"
   ]
  },
  {
   "cell_type": "markdown",
   "metadata": {},
   "source": [
    "###  <font color=FC8600 >  $\\;\\;$ 9.開始訓練model</font>"
   ]
  },
  {
   "cell_type": "code",
   "execution_count": 25,
   "metadata": {},
   "outputs": [
    {
     "name": "stdout",
     "output_type": "stream",
     "text": [
      "Epoch 1/20\n",
      "60000/60000 [==============================] - 7s 120us/step - loss: 0.0551 - acc: 0.9819\n",
      "Epoch 2/20\n",
      "60000/60000 [==============================] - 6s 103us/step - loss: 0.0244 - acc: 0.9922\n",
      "Epoch 3/20\n",
      "60000/60000 [==============================] - 6s 102us/step - loss: 0.0195 - acc: 0.9937\n",
      "Epoch 4/20\n",
      "60000/60000 [==============================] - 7s 110us/step - loss: 0.0170 - acc: 0.9945\n",
      "Epoch 5/20\n",
      "60000/60000 [==============================] - 7s 120us/step - loss: 0.0159 - acc: 0.9947\n",
      "Epoch 6/20\n",
      "60000/60000 [==============================] - 6s 107us/step - loss: 0.0145 - acc: 0.9954\n",
      "Epoch 7/20\n",
      "60000/60000 [==============================] - 6s 105us/step - loss: 0.0141 - acc: 0.9954\n",
      "Epoch 8/20\n",
      "60000/60000 [==============================] - 6s 107us/step - loss: 0.0132 - acc: 0.9958\n",
      "Epoch 9/20\n",
      "60000/60000 [==============================] - 6s 105us/step - loss: 0.0126 - acc: 0.9960\n",
      "Epoch 10/20\n",
      "60000/60000 [==============================] - 6s 108us/step - loss: 0.0123 - acc: 0.9960\n",
      "Epoch 11/20\n",
      "60000/60000 [==============================] - 6s 106us/step - loss: 0.0116 - acc: 0.9962\n",
      "Epoch 12/20\n",
      "60000/60000 [==============================] - 7s 115us/step - loss: 0.0117 - acc: 0.9962\n",
      "Epoch 13/20\n",
      "60000/60000 [==============================] - 6s 99us/step - loss: 0.0113 - acc: 0.9965\n",
      "Epoch 14/20\n",
      "60000/60000 [==============================] - 6s 103us/step - loss: 0.0113 - acc: 0.9963\n",
      "Epoch 15/20\n",
      "60000/60000 [==============================] - 6s 98us/step - loss: 0.0107 - acc: 0.9965\n",
      "Epoch 16/20\n",
      "60000/60000 [==============================] - 6s 107us/step - loss: 0.0107 - acc: 0.9964\n",
      "Epoch 17/20\n",
      "60000/60000 [==============================] - 8s 128us/step - loss: 0.0113 - acc: 0.9964\n",
      "Epoch 18/20\n",
      "60000/60000 [==============================] - 7s 120us/step - loss: 0.0105 - acc: 0.9966 2s - loss: 0.0\n",
      "Epoch 19/20\n",
      "60000/60000 [==============================] - 7s 114us/step - loss: 0.0109 - acc: 0.9965\n",
      "Epoch 20/20\n",
      "60000/60000 [==============================] - 6s 107us/step - loss: 0.0104 - acc: 0.9966\n"
     ]
    },
    {
     "data": {
      "text/plain": [
       "<keras.callbacks.History at 0x181804b90f0>"
      ]
     },
     "execution_count": 25,
     "metadata": {},
     "output_type": "execute_result"
    }
   ],
   "source": [
    "model.fit(x_train_1, y_train, batch_size=100, epochs=20)"
   ]
  },
  {
   "cell_type": "markdown",
   "metadata": {},
   "source": [
    "###  <font color=FC8600 >  $\\;\\;$ 10.正確率</font>"
   ]
  },
  {
   "cell_type": "code",
   "execution_count": 26,
   "metadata": {},
   "outputs": [
    {
     "name": "stdout",
     "output_type": "stream",
     "text": [
      "10000/10000 [==============================] - 1s 91us/step\n",
      "loss: 0.021019651602301747\n",
      "正確率: 0.994129995727539\n"
     ]
    }
   ],
   "source": [
    "score = model.evaluate(x_test_1, y_test)\n",
    "print('loss:', score[0])\n",
    "print('正確率:', score[1])"
   ]
  },
  {
   "cell_type": "code",
   "execution_count": null,
   "metadata": {},
   "outputs": [],
   "source": []
  }
 ],
 "metadata": {
  "kernelspec": {
   "display_name": "Python 3",
   "language": "python",
   "name": "python3"
  },
  "language_info": {
   "codemirror_mode": {
    "name": "ipython",
    "version": 3
   },
   "file_extension": ".py",
   "mimetype": "text/x-python",
   "name": "python",
   "nbconvert_exporter": "python",
   "pygments_lexer": "ipython3",
   "version": "3.6.5"
  }
 },
 "nbformat": 4,
 "nbformat_minor": 2
}
