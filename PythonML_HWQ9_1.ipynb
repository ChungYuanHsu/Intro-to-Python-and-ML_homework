{
  "nbformat": 4,
  "nbformat_minor": 0,
  "metadata": {
    "colab": {
      "name": "HWQ9-1.ipynb",
      "version": "0.3.2",
      "provenance": [],
      "collapsed_sections": [],
      "include_colab_link": true
    },
    "kernelspec": {
      "name": "python3",
      "display_name": "Python 3"
    },
    "accelerator": "GPU"
  },
  "cells": [
    {
      "cell_type": "markdown",
      "metadata": {
        "id": "view-in-github",
        "colab_type": "text"
      },
      "source": [
        "<a href=\"https://colab.research.google.com/github/ChungYuanHsu/Python-and-ML_homework/blob/master/PythonML_HWQ9_1.ipynb\" target=\"_parent\"><img src=\"https://colab.research.google.com/assets/colab-badge.svg\" alt=\"Open In Colab\"/></a>"
      ]
    },
    {
      "cell_type": "markdown",
      "metadata": {
        "id": "uf0BxpUtVsOd",
        "colab_type": "text"
      },
      "source": [
        "# <font color=1978DD> HWQ9-1 使用CNN來做圖片辨識 </font> \n",
        "## <font color=FC8600> 重建課堂中model </font> \n",
        "  ###  <font color=2214AF >  $\\;\\;$  載入需要用到的套件  </font>"
      ]
    },
    {
      "cell_type": "code",
      "metadata": {
        "id": "LOHjIOrHVuGC",
        "colab_type": "code",
        "outputId": "b67506db-331c-423b-9588-bbe8ca384b10",
        "colab": {
          "base_uri": "https://localhost:8080/",
          "height": 34
        }
      },
      "source": [
        "%env KERAS_BACKEND=tensorflow\n",
        "%matplotlib inline\n",
        "\n",
        "import numpy as np\n",
        "import matplotlib.pyplot as plt"
      ],
      "execution_count": 1,
      "outputs": [
        {
          "output_type": "stream",
          "text": [
            "env: KERAS_BACKEND=tensorflow\n"
          ],
          "name": "stdout"
        }
      ]
    },
    {
      "cell_type": "markdown",
      "metadata": {
        "id": "Q4vKpSMiV7j5",
        "colab_type": "text"
      },
      "source": [
        "###  <font color=2214AF >  $\\;\\;$ 載入手寫數字的資料  </font>"
      ]
    },
    {
      "cell_type": "code",
      "metadata": {
        "id": "RPSo1NnkVyxJ",
        "colab_type": "code",
        "colab": {
          "base_uri": "https://localhost:8080/",
          "height": 34
        },
        "outputId": "78db659e-88a5-49b4-9c69-f2ffc0e5a4d9"
      },
      "source": [
        "from keras.datasets import mnist\n",
        "(x_train, y_train), (x_test, y_test) = mnist.load_data()"
      ],
      "execution_count": 2,
      "outputs": [
        {
          "output_type": "stream",
          "text": [
            "Using TensorFlow backend.\n"
          ],
          "name": "stderr"
        }
      ]
    },
    {
      "cell_type": "markdown",
      "metadata": {
        "id": "NrepyIrKWBkc",
        "colab_type": "text"
      },
      "source": [
        "###  <font color=2214AF >  $\\;\\;$ 將每張圖片原本的資料 (28,28) 轉成 (28,28,1)</font>"
      ]
    },
    {
      "cell_type": "code",
      "metadata": {
        "id": "VH4YnhkKVzXR",
        "colab_type": "code",
        "colab": {}
      },
      "source": [
        "x_train = x_train.reshape(60000, 28, 28, 1)\n",
        "x_test = x_test.reshape(10000, 28, 28, 1)"
      ],
      "execution_count": 0,
      "outputs": []
    },
    {
      "cell_type": "markdown",
      "metadata": {
        "id": "kpynTSP1WEYU",
        "colab_type": "text"
      },
      "source": [
        "###  <font color=2214AF >  $\\;\\;$ 輸出分類數目為0-9共10種  </font>"
      ]
    },
    {
      "cell_type": "code",
      "metadata": {
        "id": "QNFnkVuAVz8p",
        "colab_type": "code",
        "colab": {}
      },
      "source": [
        "from keras.utils import np_utils\n",
        "y_train = np_utils.to_categorical(y_train, 10)\n",
        "y_test = np_utils.to_categorical(y_test, 10)"
      ],
      "execution_count": 0,
      "outputs": []
    },
    {
      "cell_type": "markdown",
      "metadata": {
        "id": "0WwihRIPWMil",
        "colab_type": "text"
      },
      "source": [
        "###  <font color=2214AF >  $\\;\\;$ 把資料調整到0~1的範圍之內，使CNN計算時較穩定 </font>"
      ]
    },
    {
      "cell_type": "code",
      "metadata": {
        "id": "TnoAfo58V0Kx",
        "colab_type": "code",
        "colab": {}
      },
      "source": [
        "x_train = x_train/255\n",
        "x_test = x_test/255"
      ],
      "execution_count": 0,
      "outputs": []
    },
    {
      "cell_type": "markdown",
      "metadata": {
        "id": "msZnNUvjWPxF",
        "colab_type": "text"
      },
      "source": [
        "###  <font color=2214AF >  $\\;\\;$ 載入套件</font>"
      ]
    },
    {
      "cell_type": "code",
      "metadata": {
        "id": "2mMS7gEvV0dJ",
        "colab_type": "code",
        "colab": {}
      },
      "source": [
        "from keras.models import Sequential\n",
        "from keras.layers import Dense, Activation, Flatten\n",
        "from keras.layers import Conv2D, MaxPool2D\n",
        "from keras.optimizers import SGD"
      ],
      "execution_count": 0,
      "outputs": []
    },
    {
      "cell_type": "markdown",
      "metadata": {
        "id": "6FRsZwcX9ALM",
        "colab_type": "text"
      },
      "source": [
        "###  <font color=2214AF >  $\\;\\;$ 建立神經網路</font>"
      ]
    },
    {
      "cell_type": "code",
      "metadata": {
        "id": "5QRIrMGpW76x",
        "colab_type": "code",
        "colab": {
          "base_uri": "https://localhost:8080/",
          "height": 88
        },
        "outputId": "05fc9dac-1abe-4597-990a-33acf7efbb7c"
      },
      "source": [
        "model = Sequential()\n",
        "\n",
        "model.add(Conv2D(4, (5, 5), padding='same', input_shape=(28, 28, 1)))\n",
        "model.add(Activation('relu'))\n",
        "\n",
        "model.add(MaxPool2D(pool_size=(2,2)))\n",
        "\n",
        "model.add(Conv2D(8, (5, 5), padding='same'))\n",
        "model.add(Activation('relu'))\n",
        "\n",
        "model.add(MaxPool2D(pool_size=(2,2)))\n",
        "\n",
        "model.add(Conv2D(16, (5, 5), padding='same'))\n",
        "model.add(Activation('relu'))\n",
        "\n",
        "model.add(MaxPool2D(pool_size=(2,2)))\n",
        "\n",
        "model.add(Flatten())\n",
        "model.add(Dense(9))\n",
        "model.add(Activation('relu'))\n",
        "\n",
        "model.add(Dense(10))\n",
        "model.add(Activation('softmax'))"
      ],
      "execution_count": 7,
      "outputs": [
        {
          "output_type": "stream",
          "text": [
            "WARNING:tensorflow:From /usr/local/lib/python3.6/dist-packages/tensorflow/python/framework/op_def_library.py:263: colocate_with (from tensorflow.python.framework.ops) is deprecated and will be removed in a future version.\n",
            "Instructions for updating:\n",
            "Colocations handled automatically by placer.\n"
          ],
          "name": "stdout"
        }
      ]
    },
    {
      "cell_type": "markdown",
      "metadata": {
        "id": "dJArfaopFZTW",
        "colab_type": "text"
      },
      "source": [
        "###  <font color=2214AF >  $\\;\\;$ compile</font>"
      ]
    },
    {
      "cell_type": "code",
      "metadata": {
        "id": "dMZDeTdh80SI",
        "colab_type": "code",
        "colab": {}
      },
      "source": [
        "model.compile(loss='mse', optimizer=SGD(lr=0.07), metrics=['accuracy'])"
      ],
      "execution_count": 0,
      "outputs": []
    },
    {
      "cell_type": "markdown",
      "metadata": {
        "id": "tkB5u-hnFn32",
        "colab_type": "text"
      },
      "source": [
        "###  <font color=2214AF >  $\\;\\;$ summary</font>"
      ]
    },
    {
      "cell_type": "code",
      "metadata": {
        "id": "KjfHN9nmFlt8",
        "colab_type": "code",
        "colab": {
          "base_uri": "https://localhost:8080/",
          "height": 612
        },
        "outputId": "33b5b64b-8a8b-4082-adad-9fa18930b3ea"
      },
      "source": [
        "model.summary()"
      ],
      "execution_count": 9,
      "outputs": [
        {
          "output_type": "stream",
          "text": [
            "_________________________________________________________________\n",
            "Layer (type)                 Output Shape              Param #   \n",
            "=================================================================\n",
            "conv2d_1 (Conv2D)            (None, 28, 28, 4)         104       \n",
            "_________________________________________________________________\n",
            "activation_1 (Activation)    (None, 28, 28, 4)         0         \n",
            "_________________________________________________________________\n",
            "max_pooling2d_1 (MaxPooling2 (None, 14, 14, 4)         0         \n",
            "_________________________________________________________________\n",
            "conv2d_2 (Conv2D)            (None, 14, 14, 8)         808       \n",
            "_________________________________________________________________\n",
            "activation_2 (Activation)    (None, 14, 14, 8)         0         \n",
            "_________________________________________________________________\n",
            "max_pooling2d_2 (MaxPooling2 (None, 7, 7, 8)           0         \n",
            "_________________________________________________________________\n",
            "conv2d_3 (Conv2D)            (None, 7, 7, 16)          3216      \n",
            "_________________________________________________________________\n",
            "activation_3 (Activation)    (None, 7, 7, 16)          0         \n",
            "_________________________________________________________________\n",
            "max_pooling2d_3 (MaxPooling2 (None, 3, 3, 16)          0         \n",
            "_________________________________________________________________\n",
            "flatten_1 (Flatten)          (None, 144)               0         \n",
            "_________________________________________________________________\n",
            "dense_1 (Dense)              (None, 9)                 1305      \n",
            "_________________________________________________________________\n",
            "activation_4 (Activation)    (None, 9)                 0         \n",
            "_________________________________________________________________\n",
            "dense_2 (Dense)              (None, 10)                100       \n",
            "_________________________________________________________________\n",
            "activation_5 (Activation)    (None, 10)                0         \n",
            "=================================================================\n",
            "Total params: 5,533\n",
            "Trainable params: 5,533\n",
            "Non-trainable params: 0\n",
            "_________________________________________________________________\n"
          ],
          "name": "stdout"
        }
      ]
    },
    {
      "cell_type": "markdown",
      "metadata": {
        "id": "uQmNZoNcGH7k",
        "colab_type": "text"
      },
      "source": [
        "###  <font color=2214AF >  $\\;\\;$訓練神經網路</font>"
      ]
    },
    {
      "cell_type": "code",
      "metadata": {
        "id": "IOhIXmBlFtGt",
        "colab_type": "code",
        "colab": {
          "base_uri": "https://localhost:8080/",
          "height": 768
        },
        "outputId": "ab8658ba-c435-4c19-f101-5467d1201ae7"
      },
      "source": [
        "model.fit(x_train, y_train, batch_size=100, epochs=20);"
      ],
      "execution_count": 10,
      "outputs": [
        {
          "output_type": "stream",
          "text": [
            "WARNING:tensorflow:From /usr/local/lib/python3.6/dist-packages/tensorflow/python/ops/math_ops.py:3066: to_int32 (from tensorflow.python.ops.math_ops) is deprecated and will be removed in a future version.\n",
            "Instructions for updating:\n",
            "Use tf.cast instead.\n",
            "Epoch 1/20\n",
            "60000/60000 [==============================] - 6s 94us/step - loss: 0.0898 - acc: 0.1519\n",
            "Epoch 2/20\n",
            "60000/60000 [==============================] - 4s 69us/step - loss: 0.0891 - acc: 0.2488\n",
            "Epoch 3/20\n",
            "60000/60000 [==============================] - 4s 69us/step - loss: 0.0862 - acc: 0.3065\n",
            "Epoch 4/20\n",
            "60000/60000 [==============================] - 4s 69us/step - loss: 0.0729 - acc: 0.3755\n",
            "Epoch 5/20\n",
            "60000/60000 [==============================] - 4s 68us/step - loss: 0.0580 - acc: 0.5474\n",
            "Epoch 6/20\n",
            "60000/60000 [==============================] - 4s 69us/step - loss: 0.0449 - acc: 0.6692\n",
            "Epoch 7/20\n",
            "60000/60000 [==============================] - 4s 69us/step - loss: 0.0321 - acc: 0.7804\n",
            "Epoch 8/20\n",
            "60000/60000 [==============================] - 4s 69us/step - loss: 0.0266 - acc: 0.8217\n",
            "Epoch 9/20\n",
            "60000/60000 [==============================] - 4s 69us/step - loss: 0.0233 - acc: 0.8454\n",
            "Epoch 10/20\n",
            "60000/60000 [==============================] - 4s 69us/step - loss: 0.0201 - acc: 0.8659\n",
            "Epoch 11/20\n",
            "60000/60000 [==============================] - 4s 69us/step - loss: 0.0139 - acc: 0.9113\n",
            "Epoch 12/20\n",
            "60000/60000 [==============================] - 4s 69us/step - loss: 0.0117 - acc: 0.9241\n",
            "Epoch 13/20\n",
            "60000/60000 [==============================] - 4s 69us/step - loss: 0.0105 - acc: 0.9322\n",
            "Epoch 14/20\n",
            "60000/60000 [==============================] - 4s 69us/step - loss: 0.0096 - acc: 0.9386\n",
            "Epoch 15/20\n",
            "60000/60000 [==============================] - 4s 69us/step - loss: 0.0090 - acc: 0.9421\n",
            "Epoch 16/20\n",
            "60000/60000 [==============================] - 4s 69us/step - loss: 0.0084 - acc: 0.9465\n",
            "Epoch 17/20\n",
            "60000/60000 [==============================] - 4s 69us/step - loss: 0.0079 - acc: 0.9495\n",
            "Epoch 18/20\n",
            "60000/60000 [==============================] - 4s 69us/step - loss: 0.0075 - acc: 0.9518\n",
            "Epoch 19/20\n",
            "60000/60000 [==============================] - 4s 69us/step - loss: 0.0071 - acc: 0.9550\n",
            "Epoch 20/20\n",
            "60000/60000 [==============================] - 4s 69us/step - loss: 0.0068 - acc: 0.9562\n"
          ],
          "name": "stdout"
        }
      ]
    },
    {
      "cell_type": "markdown",
      "metadata": {
        "id": "o0hkozzZHAFA",
        "colab_type": "text"
      },
      "source": [
        "###  <font color=2214AF >  $\\;\\;$結果測試</font>"
      ]
    },
    {
      "cell_type": "code",
      "metadata": {
        "id": "5_t5j2R2GNSG",
        "colab_type": "code",
        "colab": {
          "base_uri": "https://localhost:8080/",
          "height": 68
        },
        "outputId": "67e77431-c858-4f0e-982e-4cb6d5af8028"
      },
      "source": [
        "score = model.evaluate(x_test, y_test)\n",
        "print(f'測試資料的 loss: {score[0]:.5f}')\n",
        "print(f'測試資料的正確率: {score[1]}')"
      ],
      "execution_count": 11,
      "outputs": [
        {
          "output_type": "stream",
          "text": [
            "10000/10000 [==============================] - 1s 73us/step\n",
            "測試資料的 loss: 0.00615\n",
            "測試資料的正確率: 0.9601\n"
          ],
          "name": "stdout"
        }
      ]
    },
    {
      "cell_type": "markdown",
      "metadata": {
        "id": "1W0orC4-UYoN",
        "colab_type": "text"
      },
      "source": [
        "## <font color=FC8600> MODEL 1 : 將三層CNN中的filter數目(4,8,16)調整成(8,16,32) 其餘參數不變</font> "
      ]
    },
    {
      "cell_type": "code",
      "metadata": {
        "id": "uHTTuY1XHrGn",
        "colab_type": "code",
        "colab": {}
      },
      "source": [
        "model_1 = Sequential()\n",
        "\n",
        "model_1.add(Conv2D(8, (5, 5), padding='same', input_shape=(28, 28, 1)))\n",
        "model_1.add(Activation('relu'))\n",
        "\n",
        "model_1.add(MaxPool2D(pool_size=(2,2)))\n",
        "\n",
        "model_1.add(Conv2D(16, (5, 5), padding='same'))\n",
        "model_1.add(Activation('relu'))\n",
        "\n",
        "model_1.add(MaxPool2D(pool_size=(2,2)))\n",
        "\n",
        "model_1.add(Conv2D(32, (5, 5), padding='same'))\n",
        "model_1.add(Activation('relu'))\n",
        "\n",
        "model_1.add(MaxPool2D(pool_size=(2,2)))\n",
        "\n",
        "model_1.add(Flatten())\n",
        "model_1.add(Dense(9))\n",
        "model_1.add(Activation('relu'))\n",
        "\n",
        "model_1.add(Dense(10))\n",
        "model_1.add(Activation('softmax'))"
      ],
      "execution_count": 0,
      "outputs": []
    },
    {
      "cell_type": "code",
      "metadata": {
        "id": "eks752XOZiy3",
        "colab_type": "code",
        "colab": {
          "base_uri": "https://localhost:8080/",
          "height": 1292
        },
        "outputId": "e479aef3-5413-4ff2-b4b9-87dc6437dd7b"
      },
      "source": [
        "model_1.compile(loss='mse', optimizer=SGD(lr=0.07), metrics=['accuracy'])\n",
        "model_1.summary()\n",
        "model_1.fit(x_train, y_train, batch_size=100, epochs=20);"
      ],
      "execution_count": 13,
      "outputs": [
        {
          "output_type": "stream",
          "text": [
            "_________________________________________________________________\n",
            "Layer (type)                 Output Shape              Param #   \n",
            "=================================================================\n",
            "conv2d_4 (Conv2D)            (None, 28, 28, 8)         208       \n",
            "_________________________________________________________________\n",
            "activation_6 (Activation)    (None, 28, 28, 8)         0         \n",
            "_________________________________________________________________\n",
            "max_pooling2d_4 (MaxPooling2 (None, 14, 14, 8)         0         \n",
            "_________________________________________________________________\n",
            "conv2d_5 (Conv2D)            (None, 14, 14, 16)        3216      \n",
            "_________________________________________________________________\n",
            "activation_7 (Activation)    (None, 14, 14, 16)        0         \n",
            "_________________________________________________________________\n",
            "max_pooling2d_5 (MaxPooling2 (None, 7, 7, 16)          0         \n",
            "_________________________________________________________________\n",
            "conv2d_6 (Conv2D)            (None, 7, 7, 32)          12832     \n",
            "_________________________________________________________________\n",
            "activation_8 (Activation)    (None, 7, 7, 32)          0         \n",
            "_________________________________________________________________\n",
            "max_pooling2d_6 (MaxPooling2 (None, 3, 3, 32)          0         \n",
            "_________________________________________________________________\n",
            "flatten_2 (Flatten)          (None, 288)               0         \n",
            "_________________________________________________________________\n",
            "dense_3 (Dense)              (None, 9)                 2601      \n",
            "_________________________________________________________________\n",
            "activation_9 (Activation)    (None, 9)                 0         \n",
            "_________________________________________________________________\n",
            "dense_4 (Dense)              (None, 10)                100       \n",
            "_________________________________________________________________\n",
            "activation_10 (Activation)   (None, 10)                0         \n",
            "=================================================================\n",
            "Total params: 18,957\n",
            "Trainable params: 18,957\n",
            "Non-trainable params: 0\n",
            "_________________________________________________________________\n",
            "Epoch 1/20\n",
            "60000/60000 [==============================] - 5s 87us/step - loss: 0.0896 - acc: 0.2031\n",
            "Epoch 2/20\n",
            "60000/60000 [==============================] - 5s 82us/step - loss: 0.0885 - acc: 0.3233\n",
            "Epoch 3/20\n",
            "60000/60000 [==============================] - 5s 82us/step - loss: 0.0813 - acc: 0.3229\n",
            "Epoch 4/20\n",
            "60000/60000 [==============================] - 5s 82us/step - loss: 0.0502 - acc: 0.6329\n",
            "Epoch 5/20\n",
            "60000/60000 [==============================] - 5s 82us/step - loss: 0.0280 - acc: 0.8141\n",
            "Epoch 6/20\n",
            "60000/60000 [==============================] - 5s 82us/step - loss: 0.0178 - acc: 0.8860\n",
            "Epoch 7/20\n",
            "60000/60000 [==============================] - 5s 82us/step - loss: 0.0135 - acc: 0.9138\n",
            "Epoch 8/20\n",
            "60000/60000 [==============================] - 5s 82us/step - loss: 0.0114 - acc: 0.9265\n",
            "Epoch 9/20\n",
            "60000/60000 [==============================] - 5s 82us/step - loss: 0.0099 - acc: 0.9364\n",
            "Epoch 10/20\n",
            "60000/60000 [==============================] - 5s 83us/step - loss: 0.0089 - acc: 0.9431\n",
            "Epoch 11/20\n",
            "60000/60000 [==============================] - 5s 83us/step - loss: 0.0082 - acc: 0.9480\n",
            "Epoch 12/20\n",
            "60000/60000 [==============================] - 5s 82us/step - loss: 0.0075 - acc: 0.9525\n",
            "Epoch 13/20\n",
            "60000/60000 [==============================] - 5s 83us/step - loss: 0.0069 - acc: 0.9558\n",
            "Epoch 14/20\n",
            "60000/60000 [==============================] - 5s 83us/step - loss: 0.0065 - acc: 0.9589\n",
            "Epoch 15/20\n",
            "60000/60000 [==============================] - 5s 84us/step - loss: 0.0062 - acc: 0.9609\n",
            "Epoch 16/20\n",
            "60000/60000 [==============================] - 5s 82us/step - loss: 0.0058 - acc: 0.9628\n",
            "Epoch 17/20\n",
            "60000/60000 [==============================] - 5s 83us/step - loss: 0.0056 - acc: 0.9642\n",
            "Epoch 18/20\n",
            "60000/60000 [==============================] - 5s 82us/step - loss: 0.0053 - acc: 0.9665\n",
            "Epoch 19/20\n",
            "60000/60000 [==============================] - 5s 82us/step - loss: 0.0051 - acc: 0.9675\n",
            "Epoch 20/20\n",
            "60000/60000 [==============================] - 5s 82us/step - loss: 0.0049 - acc: 0.9689\n"
          ],
          "name": "stdout"
        }
      ]
    },
    {
      "cell_type": "code",
      "metadata": {
        "id": "hSZy7Ll4aEPl",
        "colab_type": "code",
        "colab": {
          "base_uri": "https://localhost:8080/",
          "height": 68
        },
        "outputId": "63c666f8-86e0-4eb5-9c61-33f71e56bd03"
      },
      "source": [
        "score = model_1.evaluate(x_test, y_test)\n",
        "print(f'測試資料的 loss: {score[0]:.5f}')\n",
        "print(f'測試資料的正確率: {score[1]}')"
      ],
      "execution_count": 14,
      "outputs": [
        {
          "output_type": "stream",
          "text": [
            "10000/10000 [==============================] - 1s 83us/step\n",
            "測試資料的 loss: 0.00455\n",
            "測試資料的正確率: 0.9707\n"
          ],
          "name": "stdout"
        }
      ]
    },
    {
      "cell_type": "markdown",
      "metadata": {
        "id": "pj-Pd1kPbSUm",
        "colab_type": "text"
      },
      "source": [
        "## <font color=FC8600> MODEL 2 : 將三層CNN中的filter數大小(5,5)調整成(3,3) 其餘參數不變</font> "
      ]
    },
    {
      "cell_type": "code",
      "metadata": {
        "id": "iA1WIDyGbllj",
        "colab_type": "code",
        "colab": {}
      },
      "source": [
        "model_2 = Sequential()\n",
        "\n",
        "model_2.add(Conv2D(4, (3, 3), padding='same', input_shape=(28, 28, 1)))\n",
        "model_2.add(Activation('relu'))\n",
        "\n",
        "model_2.add(MaxPool2D(pool_size=(2,2)))\n",
        "\n",
        "model_2.add(Conv2D(8, (3, 3), padding='same'))\n",
        "model_2.add(Activation('relu'))\n",
        "\n",
        "model_2.add(MaxPool2D(pool_size=(2,2)))\n",
        "\n",
        "model_2.add(Conv2D(16, (3, 3), padding='same'))\n",
        "model_2.add(Activation('relu'))\n",
        "\n",
        "model_2.add(MaxPool2D(pool_size=(2,2)))\n",
        "\n",
        "model_2.add(Flatten())\n",
        "model_2.add(Dense(9))\n",
        "model_2.add(Activation('relu'))\n",
        "\n",
        "model_2.add(Dense(10))\n",
        "model_2.add(Activation('softmax'))"
      ],
      "execution_count": 0,
      "outputs": []
    },
    {
      "cell_type": "code",
      "metadata": {
        "id": "qzpvPhmqbp1u",
        "colab_type": "code",
        "colab": {
          "base_uri": "https://localhost:8080/",
          "height": 1292
        },
        "outputId": "3eddd059-e927-4dd7-d3ac-5d2c9e2fc360"
      },
      "source": [
        "model_2.compile(loss='mse', optimizer=SGD(lr=0.07), metrics=['accuracy'])\n",
        "model_2.summary()\n",
        "model_2.fit(x_train, y_train, batch_size=100, epochs=20);"
      ],
      "execution_count": 16,
      "outputs": [
        {
          "output_type": "stream",
          "text": [
            "_________________________________________________________________\n",
            "Layer (type)                 Output Shape              Param #   \n",
            "=================================================================\n",
            "conv2d_7 (Conv2D)            (None, 28, 28, 4)         40        \n",
            "_________________________________________________________________\n",
            "activation_11 (Activation)   (None, 28, 28, 4)         0         \n",
            "_________________________________________________________________\n",
            "max_pooling2d_7 (MaxPooling2 (None, 14, 14, 4)         0         \n",
            "_________________________________________________________________\n",
            "conv2d_8 (Conv2D)            (None, 14, 14, 8)         296       \n",
            "_________________________________________________________________\n",
            "activation_12 (Activation)   (None, 14, 14, 8)         0         \n",
            "_________________________________________________________________\n",
            "max_pooling2d_8 (MaxPooling2 (None, 7, 7, 8)           0         \n",
            "_________________________________________________________________\n",
            "conv2d_9 (Conv2D)            (None, 7, 7, 16)          1168      \n",
            "_________________________________________________________________\n",
            "activation_13 (Activation)   (None, 7, 7, 16)          0         \n",
            "_________________________________________________________________\n",
            "max_pooling2d_9 (MaxPooling2 (None, 3, 3, 16)          0         \n",
            "_________________________________________________________________\n",
            "flatten_3 (Flatten)          (None, 144)               0         \n",
            "_________________________________________________________________\n",
            "dense_5 (Dense)              (None, 9)                 1305      \n",
            "_________________________________________________________________\n",
            "activation_14 (Activation)   (None, 9)                 0         \n",
            "_________________________________________________________________\n",
            "dense_6 (Dense)              (None, 10)                100       \n",
            "_________________________________________________________________\n",
            "activation_15 (Activation)   (None, 10)                0         \n",
            "=================================================================\n",
            "Total params: 2,909\n",
            "Trainable params: 2,909\n",
            "Non-trainable params: 0\n",
            "_________________________________________________________________\n",
            "Epoch 1/20\n",
            "60000/60000 [==============================] - 4s 68us/step - loss: 0.0902 - acc: 0.1023\n",
            "Epoch 2/20\n",
            "60000/60000 [==============================] - 4s 63us/step - loss: 0.0900 - acc: 0.1057\n",
            "Epoch 3/20\n",
            "60000/60000 [==============================] - 4s 62us/step - loss: 0.0899 - acc: 0.1222\n",
            "Epoch 4/20\n",
            "60000/60000 [==============================] - 4s 63us/step - loss: 0.0898 - acc: 0.1239\n",
            "Epoch 5/20\n",
            "60000/60000 [==============================] - 4s 62us/step - loss: 0.0896 - acc: 0.1259\n",
            "Epoch 6/20\n",
            "60000/60000 [==============================] - 4s 62us/step - loss: 0.0893 - acc: 0.1399\n",
            "Epoch 7/20\n",
            "60000/60000 [==============================] - 4s 63us/step - loss: 0.0888 - acc: 0.1599\n",
            "Epoch 8/20\n",
            "60000/60000 [==============================] - 4s 63us/step - loss: 0.0876 - acc: 0.1822\n",
            "Epoch 9/20\n",
            "60000/60000 [==============================] - 4s 62us/step - loss: 0.0826 - acc: 0.2651\n",
            "Epoch 10/20\n",
            "60000/60000 [==============================] - 4s 64us/step - loss: 0.0606 - acc: 0.5440\n",
            "Epoch 11/20\n",
            "60000/60000 [==============================] - 4s 63us/step - loss: 0.0370 - acc: 0.7575\n",
            "Epoch 12/20\n",
            "60000/60000 [==============================] - 4s 63us/step - loss: 0.0257 - acc: 0.8283\n",
            "Epoch 13/20\n",
            "60000/60000 [==============================] - 4s 63us/step - loss: 0.0197 - acc: 0.8722\n",
            "Epoch 14/20\n",
            "60000/60000 [==============================] - 4s 62us/step - loss: 0.0164 - acc: 0.8928\n",
            "Epoch 15/20\n",
            "60000/60000 [==============================] - 4s 63us/step - loss: 0.0142 - acc: 0.9068\n",
            "Epoch 16/20\n",
            "60000/60000 [==============================] - 4s 63us/step - loss: 0.0129 - acc: 0.9157\n",
            "Epoch 17/20\n",
            "60000/60000 [==============================] - 4s 62us/step - loss: 0.0118 - acc: 0.9232\n",
            "Epoch 18/20\n",
            "60000/60000 [==============================] - 4s 63us/step - loss: 0.0110 - acc: 0.9290\n",
            "Epoch 19/20\n",
            "60000/60000 [==============================] - 4s 62us/step - loss: 0.0103 - acc: 0.9326\n",
            "Epoch 20/20\n",
            "60000/60000 [==============================] - 4s 65us/step - loss: 0.0098 - acc: 0.9358\n"
          ],
          "name": "stdout"
        }
      ]
    },
    {
      "cell_type": "code",
      "metadata": {
        "id": "ARzfXfexbsjW",
        "colab_type": "code",
        "colab": {
          "base_uri": "https://localhost:8080/",
          "height": 68
        },
        "outputId": "80e89827-1d99-459c-bd6e-64308fbc4dc8"
      },
      "source": [
        "score = model_2.evaluate(x_test, y_test)\n",
        "print(f'測試資料的 loss: {score[0]:.5f}')\n",
        "print(f'測試資料的正確率: {score[1]}')"
      ],
      "execution_count": 17,
      "outputs": [
        {
          "output_type": "stream",
          "text": [
            "10000/10000 [==============================] - 1s 74us/step\n",
            "測試資料的 loss: 0.00905\n",
            "測試資料的正確率: 0.9407\n"
          ],
          "name": "stdout"
        }
      ]
    },
    {
      "cell_type": "markdown",
      "metadata": {
        "id": "j8-IZe6gjDyy",
        "colab_type": "text"
      },
      "source": [
        "## <font color=FC8600> MODEL 3 : 將三層CNN後的pooling size改為(3,3) 其餘參數不變</font> "
      ]
    },
    {
      "cell_type": "code",
      "metadata": {
        "id": "fDaJZ_5ii71b",
        "colab_type": "code",
        "colab": {}
      },
      "source": [
        "model_3 = Sequential()\n",
        "\n",
        "model_3.add(Conv2D(4, (5, 5), padding='same', input_shape=(28, 28, 1)))\n",
        "model_3.add(Activation('relu'))\n",
        "model_3.add(MaxPool2D(pool_size=(3,3)))\n",
        "\n",
        "model_3.add(Conv2D(8, (5, 5), padding='same'))\n",
        "model_3.add(Activation('relu'))\n",
        "model_3.add(MaxPool2D(pool_size=(3,3)))\n",
        "\n",
        "model_3.add(Conv2D(16, (5, 5), padding='same'))\n",
        "model_3.add(Activation('relu'))\n",
        "model_3.add(MaxPool2D(pool_size=(3,3)))\n",
        "\n",
        "model_3.add(Flatten())\n",
        "model_3.add(Dense(9))\n",
        "model_3.add(Activation('relu'))\n",
        "\n",
        "model_3.add(Dense(10))\n",
        "model_3.add(Activation('softmax'))"
      ],
      "execution_count": 0,
      "outputs": []
    },
    {
      "cell_type": "code",
      "metadata": {
        "id": "mKn2z8yoi84e",
        "colab_type": "code",
        "colab": {
          "base_uri": "https://localhost:8080/",
          "height": 1292
        },
        "outputId": "157c6c6d-9874-4d25-bfaf-851bb09035db"
      },
      "source": [
        "model_3.compile(loss='mse', optimizer=SGD(lr=0.07), metrics=['accuracy'])\n",
        "model_3.summary()\n",
        "model_3.fit(x_train, y_train, batch_size=100, epochs=20);"
      ],
      "execution_count": 19,
      "outputs": [
        {
          "output_type": "stream",
          "text": [
            "_________________________________________________________________\n",
            "Layer (type)                 Output Shape              Param #   \n",
            "=================================================================\n",
            "conv2d_10 (Conv2D)           (None, 28, 28, 4)         104       \n",
            "_________________________________________________________________\n",
            "activation_16 (Activation)   (None, 28, 28, 4)         0         \n",
            "_________________________________________________________________\n",
            "max_pooling2d_10 (MaxPooling (None, 9, 9, 4)           0         \n",
            "_________________________________________________________________\n",
            "conv2d_11 (Conv2D)           (None, 9, 9, 8)           808       \n",
            "_________________________________________________________________\n",
            "activation_17 (Activation)   (None, 9, 9, 8)           0         \n",
            "_________________________________________________________________\n",
            "max_pooling2d_11 (MaxPooling (None, 3, 3, 8)           0         \n",
            "_________________________________________________________________\n",
            "conv2d_12 (Conv2D)           (None, 3, 3, 16)          3216      \n",
            "_________________________________________________________________\n",
            "activation_18 (Activation)   (None, 3, 3, 16)          0         \n",
            "_________________________________________________________________\n",
            "max_pooling2d_12 (MaxPooling (None, 1, 1, 16)          0         \n",
            "_________________________________________________________________\n",
            "flatten_4 (Flatten)          (None, 16)                0         \n",
            "_________________________________________________________________\n",
            "dense_7 (Dense)              (None, 9)                 153       \n",
            "_________________________________________________________________\n",
            "activation_19 (Activation)   (None, 9)                 0         \n",
            "_________________________________________________________________\n",
            "dense_8 (Dense)              (None, 10)                100       \n",
            "_________________________________________________________________\n",
            "activation_20 (Activation)   (None, 10)                0         \n",
            "=================================================================\n",
            "Total params: 4,381\n",
            "Trainable params: 4,381\n",
            "Non-trainable params: 0\n",
            "_________________________________________________________________\n",
            "Epoch 1/20\n",
            "60000/60000 [==============================] - 4s 69us/step - loss: 0.0899 - acc: 0.1319\n",
            "Epoch 2/20\n",
            "60000/60000 [==============================] - 4s 64us/step - loss: 0.0896 - acc: 0.2008\n",
            "Epoch 3/20\n",
            "60000/60000 [==============================] - 4s 62us/step - loss: 0.0892 - acc: 0.2291\n",
            "Epoch 4/20\n",
            "60000/60000 [==============================] - 4s 62us/step - loss: 0.0884 - acc: 0.2593\n",
            "Epoch 5/20\n",
            "60000/60000 [==============================] - 4s 63us/step - loss: 0.0865 - acc: 0.2978\n",
            "Epoch 6/20\n",
            "60000/60000 [==============================] - 4s 62us/step - loss: 0.0801 - acc: 0.4209\n",
            "Epoch 7/20\n",
            "60000/60000 [==============================] - 4s 62us/step - loss: 0.0608 - acc: 0.5907\n",
            "Epoch 8/20\n",
            "60000/60000 [==============================] - 4s 62us/step - loss: 0.0414 - acc: 0.7306\n",
            "Epoch 9/20\n",
            "60000/60000 [==============================] - 4s 63us/step - loss: 0.0308 - acc: 0.7965\n",
            "Epoch 10/20\n",
            "60000/60000 [==============================] - 4s 64us/step - loss: 0.0268 - acc: 0.8190\n",
            "Epoch 11/20\n",
            "60000/60000 [==============================] - 4s 63us/step - loss: 0.0248 - acc: 0.8312\n",
            "Epoch 12/20\n",
            "60000/60000 [==============================] - 4s 62us/step - loss: 0.0237 - acc: 0.8366\n",
            "Epoch 13/20\n",
            "60000/60000 [==============================] - 4s 63us/step - loss: 0.0229 - acc: 0.8420\n",
            "Epoch 14/20\n",
            "60000/60000 [==============================] - 4s 62us/step - loss: 0.0222 - acc: 0.8457\n",
            "Epoch 15/20\n",
            "60000/60000 [==============================] - 4s 62us/step - loss: 0.0216 - acc: 0.8497\n",
            "Epoch 16/20\n",
            "60000/60000 [==============================] - 4s 62us/step - loss: 0.0212 - acc: 0.8530\n",
            "Epoch 17/20\n",
            "60000/60000 [==============================] - 4s 62us/step - loss: 0.0208 - acc: 0.8550\n",
            "Epoch 18/20\n",
            "60000/60000 [==============================] - 4s 62us/step - loss: 0.0204 - acc: 0.8576\n",
            "Epoch 19/20\n",
            "60000/60000 [==============================] - 4s 62us/step - loss: 0.0201 - acc: 0.8586\n",
            "Epoch 20/20\n",
            "60000/60000 [==============================] - 4s 62us/step - loss: 0.0198 - acc: 0.8617\n"
          ],
          "name": "stdout"
        }
      ]
    },
    {
      "cell_type": "code",
      "metadata": {
        "id": "ZHCDrIhKi9Gr",
        "colab_type": "code",
        "colab": {
          "base_uri": "https://localhost:8080/",
          "height": 68
        },
        "outputId": "cb30abef-3b34-4f55-b744-ae417f2ec99a"
      },
      "source": [
        "score = model_3.evaluate(x_test, y_test)\n",
        "print(f'測試資料的 loss: {score[0]:.5f}')\n",
        "print(f'測試資料的正確率: {score[1]}')"
      ],
      "execution_count": 20,
      "outputs": [
        {
          "output_type": "stream",
          "text": [
            "10000/10000 [==============================] - 1s 77us/step\n",
            "測試資料的 loss: 0.01921\n",
            "測試資料的正確率: 0.8652\n"
          ],
          "name": "stdout"
        }
      ]
    },
    {
      "cell_type": "markdown",
      "metadata": {
        "id": "S93OvMkYj5Gr",
        "colab_type": "text"
      },
      "source": [
        "## <font color=FC8600> MODEL 4 : 將三層CNN改為四層且filter數目為32 其餘參數不變</font> "
      ]
    },
    {
      "cell_type": "code",
      "metadata": {
        "id": "Y2f1i_lKjz7U",
        "colab_type": "code",
        "colab": {}
      },
      "source": [
        "model_4 = Sequential()\n",
        "\n",
        "model_4.add(Conv2D(4, (5, 5), padding='same', input_shape=(28, 28, 1)))\n",
        "model_4.add(Activation('relu'))\n",
        "model_4.add(MaxPool2D(pool_size=(2,2)))\n",
        "\n",
        "model_4.add(Conv2D(8, (5, 5), padding='same'))\n",
        "model_4.add(Activation('relu'))\n",
        "model_4.add(MaxPool2D(pool_size=(2,2)))\n",
        "\n",
        "model_4.add(Conv2D(16, (5, 5), padding='same'))\n",
        "model_4.add(Activation('relu'))\n",
        "model_4.add(MaxPool2D(pool_size=(2,2)))\n",
        "\n",
        "model_4.add(Conv2D(32, (5, 5), padding='same'))\n",
        "model_4.add(Activation('relu'))\n",
        "model_4.add(MaxPool2D(pool_size=(2,2)))\n",
        "\n",
        "model_4.add(Flatten())\n",
        "model_4.add(Dense(9))\n",
        "model_4.add(Activation('relu'))\n",
        "\n",
        "model_4.add(Dense(10))\n",
        "model_4.add(Activation('softmax'))"
      ],
      "execution_count": 0,
      "outputs": []
    },
    {
      "cell_type": "code",
      "metadata": {
        "id": "TPsna3g3jz_W",
        "colab_type": "code",
        "colab": {
          "base_uri": "https://localhost:8080/",
          "height": 1394
        },
        "outputId": "f434057a-cb75-4a28-8a57-b9162ac4b48a"
      },
      "source": [
        "model_4.compile(loss='mse', optimizer=SGD(lr=0.07), metrics=['accuracy'])\n",
        "model_4.summary()\n",
        "model_4.fit(x_train, y_train, batch_size=100, epochs=20);"
      ],
      "execution_count": 22,
      "outputs": [
        {
          "output_type": "stream",
          "text": [
            "_________________________________________________________________\n",
            "Layer (type)                 Output Shape              Param #   \n",
            "=================================================================\n",
            "conv2d_13 (Conv2D)           (None, 28, 28, 4)         104       \n",
            "_________________________________________________________________\n",
            "activation_21 (Activation)   (None, 28, 28, 4)         0         \n",
            "_________________________________________________________________\n",
            "max_pooling2d_13 (MaxPooling (None, 14, 14, 4)         0         \n",
            "_________________________________________________________________\n",
            "conv2d_14 (Conv2D)           (None, 14, 14, 8)         808       \n",
            "_________________________________________________________________\n",
            "activation_22 (Activation)   (None, 14, 14, 8)         0         \n",
            "_________________________________________________________________\n",
            "max_pooling2d_14 (MaxPooling (None, 7, 7, 8)           0         \n",
            "_________________________________________________________________\n",
            "conv2d_15 (Conv2D)           (None, 7, 7, 16)          3216      \n",
            "_________________________________________________________________\n",
            "activation_23 (Activation)   (None, 7, 7, 16)          0         \n",
            "_________________________________________________________________\n",
            "max_pooling2d_15 (MaxPooling (None, 3, 3, 16)          0         \n",
            "_________________________________________________________________\n",
            "conv2d_16 (Conv2D)           (None, 3, 3, 32)          12832     \n",
            "_________________________________________________________________\n",
            "activation_24 (Activation)   (None, 3, 3, 32)          0         \n",
            "_________________________________________________________________\n",
            "max_pooling2d_16 (MaxPooling (None, 1, 1, 32)          0         \n",
            "_________________________________________________________________\n",
            "flatten_5 (Flatten)          (None, 32)                0         \n",
            "_________________________________________________________________\n",
            "dense_9 (Dense)              (None, 9)                 297       \n",
            "_________________________________________________________________\n",
            "activation_25 (Activation)   (None, 9)                 0         \n",
            "_________________________________________________________________\n",
            "dense_10 (Dense)             (None, 10)                100       \n",
            "_________________________________________________________________\n",
            "activation_26 (Activation)   (None, 10)                0         \n",
            "=================================================================\n",
            "Total params: 17,357\n",
            "Trainable params: 17,357\n",
            "Non-trainable params: 0\n",
            "_________________________________________________________________\n",
            "Epoch 1/20\n",
            "60000/60000 [==============================] - 5s 84us/step - loss: 0.0898 - acc: 0.0987\n",
            "Epoch 2/20\n",
            "60000/60000 [==============================] - 5s 79us/step - loss: 0.0896 - acc: 0.1114\n",
            "Epoch 3/20\n",
            "60000/60000 [==============================] - 5s 79us/step - loss: 0.0890 - acc: 0.1463\n",
            "Epoch 4/20\n",
            "60000/60000 [==============================] - 5s 79us/step - loss: 0.0868 - acc: 0.1767\n",
            "Epoch 5/20\n",
            "60000/60000 [==============================] - 5s 79us/step - loss: 0.0787 - acc: 0.3347\n",
            "Epoch 6/20\n",
            "60000/60000 [==============================] - 5s 80us/step - loss: 0.0610 - acc: 0.5216\n",
            "Epoch 7/20\n",
            "60000/60000 [==============================] - 5s 79us/step - loss: 0.0477 - acc: 0.6567\n",
            "Epoch 8/20\n",
            "60000/60000 [==============================] - 5s 79us/step - loss: 0.0375 - acc: 0.7278\n",
            "Epoch 9/20\n",
            "60000/60000 [==============================] - 5s 79us/step - loss: 0.0290 - acc: 0.8078\n",
            "Epoch 10/20\n",
            "60000/60000 [==============================] - 5s 80us/step - loss: 0.0245 - acc: 0.8335\n",
            "Epoch 11/20\n",
            "60000/60000 [==============================] - 5s 80us/step - loss: 0.0223 - acc: 0.8467\n",
            "Epoch 12/20\n",
            "60000/60000 [==============================] - 5s 83us/step - loss: 0.0210 - acc: 0.8541\n",
            "Epoch 13/20\n",
            "60000/60000 [==============================] - 5s 86us/step - loss: 0.0201 - acc: 0.8592\n",
            "Epoch 14/20\n",
            "60000/60000 [==============================] - 5s 84us/step - loss: 0.0195 - acc: 0.8636\n",
            "Epoch 15/20\n",
            "60000/60000 [==============================] - 5s 85us/step - loss: 0.0188 - acc: 0.8676\n",
            "Epoch 16/20\n",
            "60000/60000 [==============================] - 5s 87us/step - loss: 0.0184 - acc: 0.8697\n",
            "Epoch 17/20\n",
            "60000/60000 [==============================] - 5s 88us/step - loss: 0.0180 - acc: 0.8718\n",
            "Epoch 18/20\n",
            "60000/60000 [==============================] - 5s 87us/step - loss: 0.0177 - acc: 0.8736\n",
            "Epoch 19/20\n",
            "60000/60000 [==============================] - 5s 86us/step - loss: 0.0173 - acc: 0.8755\n",
            "Epoch 20/20\n",
            "60000/60000 [==============================] - 5s 86us/step - loss: 0.0171 - acc: 0.8766\n"
          ],
          "name": "stdout"
        }
      ]
    },
    {
      "cell_type": "code",
      "metadata": {
        "id": "UqGMFEd0j0Dz",
        "colab_type": "code",
        "colab": {
          "base_uri": "https://localhost:8080/",
          "height": 68
        },
        "outputId": "4fb1db31-be81-4cf5-d33d-230f11320a1e"
      },
      "source": [
        "score = model_4.evaluate(x_test, y_test)\n",
        "print(f'測試資料的 loss: {score[0]:.5f}')\n",
        "print(f'測試資料的正確率: {score[1]}')"
      ],
      "execution_count": 23,
      "outputs": [
        {
          "output_type": "stream",
          "text": [
            "10000/10000 [==============================] - 1s 90us/step\n",
            "測試資料的 loss: 0.01680\n",
            "測試資料的正確率: 0.8768\n"
          ],
          "name": "stdout"
        }
      ]
    },
    {
      "cell_type": "markdown",
      "metadata": {
        "id": "fd7jkMybkzto",
        "colab_type": "text"
      },
      "source": [
        "## <font color=FC8600> MODEL 5 : 將NN的dense層改為20 其餘參數不變</font> "
      ]
    },
    {
      "cell_type": "code",
      "metadata": {
        "id": "HAFOYpaCkz5v",
        "colab_type": "code",
        "colab": {}
      },
      "source": [
        "model_5 = Sequential()\n",
        "\n",
        "model_5.add(Conv2D(4, (5, 5), padding='same', input_shape=(28, 28, 1)))\n",
        "model_5.add(Activation('relu'))\n",
        "model_5.add(MaxPool2D(pool_size=(2,2)))\n",
        "\n",
        "model_5.add(Conv2D(8, (5, 5), padding='same'))\n",
        "model_5.add(Activation('relu'))\n",
        "model_5.add(MaxPool2D(pool_size=(2,2)))\n",
        "\n",
        "model_5.add(Conv2D(16, (5, 5), padding='same'))\n",
        "model_5.add(Activation('relu'))\n",
        "model_5.add(MaxPool2D(pool_size=(2,2)))\n",
        "\n",
        "model_5.add(Flatten())\n",
        "model_5.add(Dense(30))\n",
        "model_5.add(Activation('relu'))\n",
        "\n",
        "model_5.add(Dense(10))\n",
        "model_5.add(Activation('softmax'))"
      ],
      "execution_count": 0,
      "outputs": []
    },
    {
      "cell_type": "code",
      "metadata": {
        "id": "XvH2dhU1kz8z",
        "colab_type": "code",
        "colab": {
          "base_uri": "https://localhost:8080/",
          "height": 1292
        },
        "outputId": "56556fe2-cbad-4cae-c31d-a18fe92e7e1c"
      },
      "source": [
        "model_5.compile(loss='mse', optimizer=SGD(lr=0.07), metrics=['accuracy'])\n",
        "model_5.summary()\n",
        "model_5.fit(x_train, y_train, batch_size=100, epochs=20);"
      ],
      "execution_count": 25,
      "outputs": [
        {
          "output_type": "stream",
          "text": [
            "_________________________________________________________________\n",
            "Layer (type)                 Output Shape              Param #   \n",
            "=================================================================\n",
            "conv2d_17 (Conv2D)           (None, 28, 28, 4)         104       \n",
            "_________________________________________________________________\n",
            "activation_27 (Activation)   (None, 28, 28, 4)         0         \n",
            "_________________________________________________________________\n",
            "max_pooling2d_17 (MaxPooling (None, 14, 14, 4)         0         \n",
            "_________________________________________________________________\n",
            "conv2d_18 (Conv2D)           (None, 14, 14, 8)         808       \n",
            "_________________________________________________________________\n",
            "activation_28 (Activation)   (None, 14, 14, 8)         0         \n",
            "_________________________________________________________________\n",
            "max_pooling2d_18 (MaxPooling (None, 7, 7, 8)           0         \n",
            "_________________________________________________________________\n",
            "conv2d_19 (Conv2D)           (None, 7, 7, 16)          3216      \n",
            "_________________________________________________________________\n",
            "activation_29 (Activation)   (None, 7, 7, 16)          0         \n",
            "_________________________________________________________________\n",
            "max_pooling2d_19 (MaxPooling (None, 3, 3, 16)          0         \n",
            "_________________________________________________________________\n",
            "flatten_6 (Flatten)          (None, 144)               0         \n",
            "_________________________________________________________________\n",
            "dense_11 (Dense)             (None, 30)                4350      \n",
            "_________________________________________________________________\n",
            "activation_30 (Activation)   (None, 30)                0         \n",
            "_________________________________________________________________\n",
            "dense_12 (Dense)             (None, 10)                310       \n",
            "_________________________________________________________________\n",
            "activation_31 (Activation)   (None, 10)                0         \n",
            "=================================================================\n",
            "Total params: 8,788\n",
            "Trainable params: 8,788\n",
            "Non-trainable params: 0\n",
            "_________________________________________________________________\n",
            "Epoch 1/20\n",
            "60000/60000 [==============================] - 5s 78us/step - loss: 0.0898 - acc: 0.1704\n",
            "Epoch 2/20\n",
            "60000/60000 [==============================] - 4s 71us/step - loss: 0.0893 - acc: 0.2497\n",
            "Epoch 3/20\n",
            "60000/60000 [==============================] - 4s 71us/step - loss: 0.0874 - acc: 0.3370\n",
            "Epoch 4/20\n",
            "60000/60000 [==============================] - 4s 70us/step - loss: 0.0653 - acc: 0.5398\n",
            "Epoch 5/20\n",
            "60000/60000 [==============================] - 4s 71us/step - loss: 0.0269 - acc: 0.8256\n",
            "Epoch 6/20\n",
            "60000/60000 [==============================] - 4s 70us/step - loss: 0.0174 - acc: 0.8861\n",
            "Epoch 7/20\n",
            "60000/60000 [==============================] - 4s 71us/step - loss: 0.0137 - acc: 0.9108\n",
            "Epoch 8/20\n",
            "60000/60000 [==============================] - 4s 70us/step - loss: 0.0115 - acc: 0.9256\n",
            "Epoch 9/20\n",
            "60000/60000 [==============================] - 4s 70us/step - loss: 0.0101 - acc: 0.9347\n",
            "Epoch 10/20\n",
            "60000/60000 [==============================] - 4s 70us/step - loss: 0.0091 - acc: 0.9405\n",
            "Epoch 11/20\n",
            "60000/60000 [==============================] - 4s 70us/step - loss: 0.0083 - acc: 0.9458\n",
            "Epoch 12/20\n",
            "60000/60000 [==============================] - 4s 70us/step - loss: 0.0077 - acc: 0.9495\n",
            "Epoch 13/20\n",
            "60000/60000 [==============================] - 4s 70us/step - loss: 0.0072 - acc: 0.9526\n",
            "Epoch 14/20\n",
            "60000/60000 [==============================] - 4s 70us/step - loss: 0.0067 - acc: 0.9566\n",
            "Epoch 15/20\n",
            "60000/60000 [==============================] - 4s 70us/step - loss: 0.0064 - acc: 0.9592\n",
            "Epoch 16/20\n",
            "60000/60000 [==============================] - 4s 70us/step - loss: 0.0061 - acc: 0.9607\n",
            "Epoch 17/20\n",
            "60000/60000 [==============================] - 4s 69us/step - loss: 0.0058 - acc: 0.9627\n",
            "Epoch 18/20\n",
            "60000/60000 [==============================] - 4s 69us/step - loss: 0.0056 - acc: 0.9642\n",
            "Epoch 19/20\n",
            "60000/60000 [==============================] - 4s 70us/step - loss: 0.0054 - acc: 0.9658\n",
            "Epoch 20/20\n",
            "60000/60000 [==============================] - 4s 69us/step - loss: 0.0052 - acc: 0.9670\n"
          ],
          "name": "stdout"
        }
      ]
    },
    {
      "cell_type": "code",
      "metadata": {
        "id": "BEQloZnFk0Ap",
        "colab_type": "code",
        "colab": {
          "base_uri": "https://localhost:8080/",
          "height": 68
        },
        "outputId": "a316f097-3647-4814-9281-2b0bdb55dc45"
      },
      "source": [
        "score = model_5.evaluate(x_test, y_test)\n",
        "print(f'測試資料的 loss: {score[0]:.5f}')\n",
        "print(f'測試資料的正確率: {score[1]}')"
      ],
      "execution_count": 26,
      "outputs": [
        {
          "output_type": "stream",
          "text": [
            "10000/10000 [==============================] - 1s 82us/step\n",
            "測試資料的 loss: 0.00491\n",
            "測試資料的正確率: 0.9683\n"
          ],
          "name": "stdout"
        }
      ]
    },
    {
      "cell_type": "markdown",
      "metadata": {
        "id": "6H3JxuKZnhp5",
        "colab_type": "text"
      },
      "source": [
        "## <font color=FC8600> MODEL 6 : 將loss function 改為'binary_crossentropy'其餘參數不變</font> "
      ]
    },
    {
      "cell_type": "code",
      "metadata": {
        "id": "8mUhXlNbnhzR",
        "colab_type": "code",
        "colab": {}
      },
      "source": [
        "model_6 = Sequential()\n",
        "\n",
        "model_6.add(Conv2D(4, (5, 5), padding='same', input_shape=(28, 28, 1)))\n",
        "model_6.add(Activation('relu'))\n",
        "model_6.add(MaxPool2D(pool_size=(2,2)))\n",
        "\n",
        "model_6.add(Conv2D(8, (5, 5), padding='same'))\n",
        "model_6.add(Activation('relu'))\n",
        "model_6.add(MaxPool2D(pool_size=(2,2)))\n",
        "\n",
        "model_6.add(Conv2D(16, (5, 5), padding='same'))\n",
        "model_6.add(Activation('relu'))\n",
        "model_6.add(MaxPool2D(pool_size=(2,2)))\n",
        "\n",
        "model_6.add(Flatten())\n",
        "model_6.add(Dense(9))\n",
        "model_6.add(Activation('relu'))\n",
        "\n",
        "model_6.add(Dense(10))\n",
        "model_6.add(Activation('softmax'))"
      ],
      "execution_count": 0,
      "outputs": []
    },
    {
      "cell_type": "code",
      "metadata": {
        "id": "9zcYJcXfnh27",
        "colab_type": "code",
        "colab": {
          "base_uri": "https://localhost:8080/",
          "height": 1292
        },
        "outputId": "258790d5-14f4-439d-c83b-27499f2e7fbd"
      },
      "source": [
        "model_6.compile(loss='binary_crossentropy', optimizer=SGD(lr=0.07), metrics=['accuracy'])\n",
        "model_6.summary()\n",
        "model_6.fit(x_train, y_train, batch_size=100, epochs=20);"
      ],
      "execution_count": 28,
      "outputs": [
        {
          "output_type": "stream",
          "text": [
            "_________________________________________________________________\n",
            "Layer (type)                 Output Shape              Param #   \n",
            "=================================================================\n",
            "conv2d_20 (Conv2D)           (None, 28, 28, 4)         104       \n",
            "_________________________________________________________________\n",
            "activation_32 (Activation)   (None, 28, 28, 4)         0         \n",
            "_________________________________________________________________\n",
            "max_pooling2d_20 (MaxPooling (None, 14, 14, 4)         0         \n",
            "_________________________________________________________________\n",
            "conv2d_21 (Conv2D)           (None, 14, 14, 8)         808       \n",
            "_________________________________________________________________\n",
            "activation_33 (Activation)   (None, 14, 14, 8)         0         \n",
            "_________________________________________________________________\n",
            "max_pooling2d_21 (MaxPooling (None, 7, 7, 8)           0         \n",
            "_________________________________________________________________\n",
            "conv2d_22 (Conv2D)           (None, 7, 7, 16)          3216      \n",
            "_________________________________________________________________\n",
            "activation_34 (Activation)   (None, 7, 7, 16)          0         \n",
            "_________________________________________________________________\n",
            "max_pooling2d_22 (MaxPooling (None, 3, 3, 16)          0         \n",
            "_________________________________________________________________\n",
            "flatten_7 (Flatten)          (None, 144)               0         \n",
            "_________________________________________________________________\n",
            "dense_13 (Dense)             (None, 9)                 1305      \n",
            "_________________________________________________________________\n",
            "activation_35 (Activation)   (None, 9)                 0         \n",
            "_________________________________________________________________\n",
            "dense_14 (Dense)             (None, 10)                100       \n",
            "_________________________________________________________________\n",
            "activation_36 (Activation)   (None, 10)                0         \n",
            "=================================================================\n",
            "Total params: 5,533\n",
            "Trainable params: 5,533\n",
            "Non-trainable params: 0\n",
            "_________________________________________________________________\n",
            "Epoch 1/20\n",
            "60000/60000 [==============================] - 5s 83us/step - loss: 0.2672 - acc: 0.9112\n",
            "Epoch 2/20\n",
            "60000/60000 [==============================] - 5s 75us/step - loss: 0.0696 - acc: 0.9762\n",
            "Epoch 3/20\n",
            "60000/60000 [==============================] - 5s 75us/step - loss: 0.0420 - acc: 0.9859\n",
            "Epoch 4/20\n",
            "60000/60000 [==============================] - 5s 75us/step - loss: 0.0331 - acc: 0.9891\n",
            "Epoch 5/20\n",
            "60000/60000 [==============================] - 5s 75us/step - loss: 0.0285 - acc: 0.9905\n",
            "Epoch 6/20\n",
            "60000/60000 [==============================] - 5s 76us/step - loss: 0.0251 - acc: 0.9917\n",
            "Epoch 7/20\n",
            "60000/60000 [==============================] - 5s 76us/step - loss: 0.0230 - acc: 0.9924\n",
            "Epoch 8/20\n",
            "60000/60000 [==============================] - 4s 75us/step - loss: 0.0211 - acc: 0.9929\n",
            "Epoch 9/20\n",
            "60000/60000 [==============================] - 4s 75us/step - loss: 0.0195 - acc: 0.9936\n",
            "Epoch 10/20\n",
            "60000/60000 [==============================] - 5s 76us/step - loss: 0.0183 - acc: 0.9938\n",
            "Epoch 11/20\n",
            "60000/60000 [==============================] - 5s 77us/step - loss: 0.0174 - acc: 0.9941\n",
            "Epoch 12/20\n",
            "60000/60000 [==============================] - 5s 76us/step - loss: 0.0164 - acc: 0.9945\n",
            "Epoch 13/20\n",
            "60000/60000 [==============================] - 5s 75us/step - loss: 0.0157 - acc: 0.9947\n",
            "Epoch 14/20\n",
            "60000/60000 [==============================] - 5s 75us/step - loss: 0.0151 - acc: 0.9949\n",
            "Epoch 15/20\n",
            "60000/60000 [==============================] - 5s 75us/step - loss: 0.0143 - acc: 0.9952\n",
            "Epoch 16/20\n",
            "60000/60000 [==============================] - 5s 75us/step - loss: 0.0137 - acc: 0.9954\n",
            "Epoch 17/20\n",
            "60000/60000 [==============================] - 5s 76us/step - loss: 0.0133 - acc: 0.9955\n",
            "Epoch 18/20\n",
            "60000/60000 [==============================] - 5s 76us/step - loss: 0.0126 - acc: 0.9957\n",
            "Epoch 19/20\n",
            "60000/60000 [==============================] - 5s 75us/step - loss: 0.0123 - acc: 0.9959\n",
            "Epoch 20/20\n",
            "60000/60000 [==============================] - 5s 75us/step - loss: 0.0120 - acc: 0.9959\n"
          ],
          "name": "stdout"
        }
      ]
    },
    {
      "cell_type": "code",
      "metadata": {
        "id": "Px4zJqxUnh6r",
        "colab_type": "code",
        "colab": {
          "base_uri": "https://localhost:8080/",
          "height": 68
        },
        "outputId": "982e98c7-77d4-46c2-f100-645b85f72938"
      },
      "source": [
        "score = model_6.evaluate(x_test, y_test)\n",
        "print(f'測試資料的 loss: {score[0]:.5f}')\n",
        "print(f'測試資料的正確率: {score[1]}')"
      ],
      "execution_count": 29,
      "outputs": [
        {
          "output_type": "stream",
          "text": [
            "10000/10000 [==============================] - 1s 88us/step\n",
            "測試資料的 loss: 0.01373\n",
            "測試資料的正確率: 0.9951199964523315\n"
          ],
          "name": "stdout"
        }
      ]
    },
    {
      "cell_type": "markdown",
      "metadata": {
        "id": "h0cWhO8HyBUD",
        "colab_type": "text"
      },
      "source": [
        "## 正確率比較\n",
        "###課堂model ->96..01%\n",
        "###model_1  ->97.07%\n",
        "###model_2  ->94.07%\n",
        "###model_3  ->86.52%\n",
        "###model_4  ->87.68%\n",
        "###model_5  ->96.83%\n",
        "###model_6  ->99.51%\n",
        "### 可以發現model_6調整loss function的表現最佳，測資正確率高達99.51%"
      ]
    },
    {
      "cell_type": "code",
      "metadata": {
        "id": "7tk4c7yqyRzx",
        "colab_type": "code",
        "colab": {}
      },
      "source": [
        ""
      ],
      "execution_count": 0,
      "outputs": []
    },
    {
      "cell_type": "code",
      "metadata": {
        "id": "R5McnVRkzUTs",
        "colab_type": "code",
        "colab": {}
      },
      "source": [
        ""
      ],
      "execution_count": 0,
      "outputs": []
    }
  ]
}