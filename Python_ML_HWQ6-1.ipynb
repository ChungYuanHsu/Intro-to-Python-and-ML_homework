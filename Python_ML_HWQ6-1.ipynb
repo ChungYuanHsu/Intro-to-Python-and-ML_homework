{
 "cells": [
  {
   "cell_type": "markdown",
   "metadata": {},
   "source": [
    "# HWQ6-1 自行設計loss function並找出最小值"
   ]
  },
  {
   "cell_type": "code",
   "execution_count": 1,
   "metadata": {},
   "outputs": [],
   "source": [
    "%matplotlib inline\n",
    "import matplotlib.pyplot as plt\n",
    "import numpy as np\n",
    "from ipywidgets import interact"
   ]
  },
  {
   "cell_type": "markdown",
   "metadata": {},
   "source": [
    "## 定義loss function 以及loss function的導函數"
   ]
  },
  {
   "cell_type": "code",
   "execution_count": 2,
   "metadata": {},
   "outputs": [],
   "source": [
    "def L(w):\n",
    "    L = 20*(w**4)+8*(w**3)-50*(w**2)+w+5\n",
    "    return L\n",
    "def dLdw(w):\n",
    "    d = 80*(w**3)+24*(w**2)-100*w+1\n",
    "    return d"
   ]
  },
  {
   "cell_type": "markdown",
   "metadata": {},
   "source": [
    "## 定義找出最小值的函數，其中輸入的參數為起始橫坐標位置以及迴圈次數"
   ]
  },
  {
   "cell_type": "code",
   "execution_count": 3,
   "metadata": {},
   "outputs": [],
   "source": [
    "def findMinimum(w,iteration):\n",
    "    LRate=0.0001\n",
    "    coord = np.array([[w,L(w)]])\n",
    "    plt.scatter(w,L(w),c='red')              # print init_point\n",
    "    for i in range(iteration):\n",
    "        w -= float(LRate*dLdw(w))            # update w   \n",
    "        coord = np.append(coord,np.array([[w,L(w)]]),axis=0)\n",
    "    w = np.linspace(-2,2,100)\n",
    "    lost = 20*(w**4)+8*(w**3)-50*(w**2)+w+5\n",
    "    plt.plot(w,lost)\n",
    "    for i in range(iteration+1):\n",
    "        plt.scatter(coord[i][0],coord[i][1])   \n",
    "    print(\"The minimum point is (\",coord[iteration][0],\",\",coord[iteration][1],\")\" )"
   ]
  },
  {
   "cell_type": "markdown",
   "metadata": {},
   "source": [
    "## 利用interact讓使用者自行調整輸入的參數"
   ]
  },
  {
   "cell_type": "code",
   "execution_count": 4,
   "metadata": {},
   "outputs": [
    {
     "data": {
      "application/vnd.jupyter.widget-view+json": {
       "model_id": "70eb5c80865c48c6b736b7ddb7aafc62",
       "version_major": 2,
       "version_minor": 0
      },
      "text/plain": [
       "interactive(children=(IntSlider(value=0, description='w', max=2, min=-2), IntSlider(value=505, description='it…"
      ]
     },
     "metadata": {},
     "output_type": "display_data"
    },
    {
     "data": {
      "text/plain": [
       "<function __main__.findMinimum>"
      ]
     },
     "execution_count": 4,
     "metadata": {},
     "output_type": "execute_result"
    }
   ],
   "source": [
    "interact(findMinimum,w=(-2,2) ,iteration=(10,1000) )"
   ]
  }
 ],
 "metadata": {
  "kernelspec": {
   "display_name": "Python 3",
   "language": "python",
   "name": "python3"
  },
  "language_info": {
   "codemirror_mode": {
    "name": "ipython",
    "version": 3
   },
   "file_extension": ".py",
   "mimetype": "text/x-python",
   "name": "python",
   "nbconvert_exporter": "python",
   "pygments_lexer": "ipython3",
   "version": "3.6.3"
  }
 },
 "nbformat": 4,
 "nbformat_minor": 2
}
