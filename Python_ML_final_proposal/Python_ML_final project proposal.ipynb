{
 "cells": [
  {
   "cell_type": "markdown",
   "metadata": {},
   "source": [
    "# <font color=1978DD> Final Project Proposal <font color=1978DD size=2> $\\;\\;$ 2019/05/02 </font>\n"
   ]
  },
  {
   "cell_type": "markdown",
   "metadata": {
    "scrolled": true
   },
   "source": [
    "\n",
    "###  <font color=FC8600 >  $\\;\\;$ Overview  </font>\n",
    "  <font color=#07162B face=\"微軟正黑體\" size=4 >  $\\;\\;\\;\\;$ 目標訓練一神經網路可以將語音檔案 (內容為中文數字0-9任意排列組合) 輸出成正確的文字內容 </font>\n"
   ]
  },
  {
   "cell_type": "markdown",
   "metadata": {},
   "source": [
    "\n",
    "###  <font color=FC8600 >  $\\;\\;$ Input and Output  </font>\n",
    "\n"
   ]
  },
  {
   "cell_type": "markdown",
   "metadata": {},
   "source": [
    "<font color=#07162B face=\"微軟正黑體\" size=4 >  $\\;\\;\\;\\;$ 將人說話的聲音錄下來，以音檔(.wav)的數位訊號儲存，經過傅立葉轉換成頻域訊號</font> <br />\n",
    "<font color=#07162B face=\"微軟正黑體\" size=4 >$\\;\\;\\;\\;$ 將頻域訊號\"圖像\"作為神經網路的輸入層，預期輸出為正確數字串的文字檔案</font>\n"
   ]
  },
  {
   "cell_type": "markdown",
   "metadata": {},
   "source": [
    "<img src=\"proposal_flow.png\" width=\"750\" >"
   ]
  },
  {
   "cell_type": "markdown",
   "metadata": {
    "scrolled": true
   },
   "source": [
    "###  <font color=FC8600 >  $\\;\\;$ Training and Testing Data Source  </font>\n",
    "<font color=#07162B face=\"微軟正黑體\" size=4 >  $\\;\\;\\;\\;$ 組員自行錄製音檔(.wav)儲存</font><br />\n",
    "<font color=#07162B face=\"微軟正黑體\" size=4 >  $\\;\\;\\;\\;$ 訓練資料的音檔將會有\"單一數字\"逐漸增加至\"多個數字的字串\"</font>\n"
   ]
  },
  {
   "cell_type": "markdown",
   "metadata": {},
   "source": [
    "###  <font color=FC8600 >  $\\;\\;$ Labeling  </font>"
   ]
  },
  {
   "cell_type": "markdown",
   "metadata": {},
   "source": [
    "<font color=#07162B face=\"微軟正黑體\" size=4 >  $\\;\\;\\;\\;$ 錄製過程便將音檔的數字內容另外紀錄成文字檔，以便測試時進行正確率分析</font>"
   ]
  },
  {
   "cell_type": "markdown",
   "metadata": {},
   "source": [
    "<font color=#07162B face=\"微軟正黑體\" size=1 > 圖片來源:     https://reurl.cc/OQ3OR     https://reurl.cc/RRGND https://reurl.cc/90Nla   https://reurl.cc/WzmkL https://reurl.cc/NOMpp</font>"
   ]
  },
  {
   "cell_type": "code",
   "execution_count": null,
   "metadata": {},
   "outputs": [],
   "source": []
  }
 ],
 "metadata": {
  "kernelspec": {
   "display_name": "Python 3",
   "language": "python",
   "name": "python3"
  },
  "language_info": {
   "codemirror_mode": {
    "name": "ipython",
    "version": 3
   },
   "file_extension": ".py",
   "mimetype": "text/x-python",
   "name": "python",
   "nbconvert_exporter": "python",
   "pygments_lexer": "ipython3",
   "version": "3.6.3"
  }
 },
 "nbformat": 4,
 "nbformat_minor": 2
}
